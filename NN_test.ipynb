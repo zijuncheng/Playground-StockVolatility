{
 "cells": [
  {
   "cell_type": "code",
   "execution_count": 18,
   "metadata": {
    "scrolled": true
   },
   "outputs": [],
   "source": [
    "import numpy as np\n",
    "import math"
   ]
  },
  {
   "cell_type": "code",
   "execution_count": 2,
   "metadata": {},
   "outputs": [
    {
     "name": "stderr",
     "output_type": "stream",
     "text": [
      "Using TensorFlow backend.\n"
     ]
    }
   ],
   "source": [
    "from keras.models import Sequential\n",
    "from keras.layers import LSTM\n",
    "from keras.layers import Dense"
   ]
  },
  {
   "cell_type": "code",
   "execution_count": 8,
   "metadata": {},
   "outputs": [],
   "source": [
    "#save and load function\n",
    "import pickle\n",
    "def save_obj(obj, name ):\n",
    "    with open('./'+ name + '.pkl', 'wb') as f:\n",
    "        pickle.dump(obj, f, pickle.HIGHEST_PROTOCOL)\n",
    "\n",
    "def load_obj(name ):\n",
    "    with open('./' + name + '.pkl', 'rb') as f:\n",
    "        return pickle.load(f)"
   ]
  },
  {
   "cell_type": "code",
   "execution_count": null,
   "metadata": {},
   "outputs": [],
   "source": [
    "#load the data\n",
    "df_msft = load_obj(\"pkl_data/result_test_df_final\")"
   ]
  },
  {
   "cell_type": "code",
   "execution_count": null,
   "metadata": {},
   "outputs": [],
   "source": [
    "df_msft"
   ]
  },
  {
   "cell_type": "code",
   "execution_count": null,
   "metadata": {},
   "outputs": [],
   "source": [
    "#data vitualization\n",
    "import matplotlib.pyplot as plt\n",
    "\n",
    "n = len(df_msft)\n",
    "x = np.linspace(0, n, n)\n",
    "y = df_msft['adj_close_price']\n",
    "plt.plot(x, y)\n",
    "plt.show()\n"
   ]
  },
  {
   "cell_type": "code",
   "execution_count": null,
   "metadata": {},
   "outputs": [],
   "source": [
    "#normalize the price, transform to log returns and volatility\n",
    "df_msft['daily_return'] = np.nan\n",
    "df_msft['weekly_return'] = np.nan\n",
    "df_msft['monthly_return'] = np.nan\n",
    "count = 0\n",
    "\n",
    "for index, row in df_msft.iterrows():\n",
    "    #print(index)\n",
    "    if count > 0:\n",
    "        df_msft.loc[index,'daily_return']  = np.log(df_msft.loc[index,'adj_close_price']/df_msft.loc[index-1,'adj_close_price'])    \n",
    "    if count > 5:\n",
    "        df_msft.loc[index,'weekly_return']  = np.log(df_msft.loc[index,'adj_close_price']/df_msft.loc[index-6,'adj_close_price']) \n",
    "    if count > 28:\n",
    "        df_msft.loc[index,'monthly_return']  = np.log(df_msft.loc[index,'adj_close_price']/df_msft.loc[index-29,'adj_close_price']) \n",
    "    count = count + 1\n"
   ]
  },
  {
   "cell_type": "code",
   "execution_count": null,
   "metadata": {},
   "outputs": [],
   "source": [
    "df_msft"
   ]
  },
  {
   "cell_type": "code",
   "execution_count": null,
   "metadata": {},
   "outputs": [],
   "source": [
    "#add volatility\n",
    "#compute daily\n",
    "df_msft['daily_vol_10d'] = df_msft['daily_return'].rolling(10).std()\n",
    "#compute weekly\n",
    "df_msft['weekly_vol_30d'] = df_msft['weekly_return'].rolling(30).std()\n",
    "#compute monthly\n",
    "df_msft['monthly_vol_90d'] = df_msft['monthly_return'].rolling(90).std()"
   ]
  },
  {
   "cell_type": "code",
   "execution_count": null,
   "metadata": {},
   "outputs": [],
   "source": [
    "df_msft"
   ]
  },
  {
   "cell_type": "code",
   "execution_count": null,
   "metadata": {},
   "outputs": [],
   "source": [
    "#reindex\n",
    "df_msft = df_msft.reset_index()"
   ]
  },
  {
   "cell_type": "code",
   "execution_count": null,
   "metadata": {},
   "outputs": [],
   "source": [
    "#before droping na, save the data set\n",
    "save_obj(df_msft,\"pkl_data/df_msft_w_na\")"
   ]
  },
  {
   "cell_type": "code",
   "execution_count": 33,
   "metadata": {},
   "outputs": [],
   "source": [
    "df_msft_w_na = load_obj(\"pkl_data/df_msft_w_na\")"
   ]
  },
  {
   "cell_type": "code",
   "execution_count": null,
   "metadata": {},
   "outputs": [],
   "source": [
    "#dropna\n",
    "df_msft_final = df_msft.dropna()"
   ]
  },
  {
   "cell_type": "code",
   "execution_count": null,
   "metadata": {},
   "outputs": [],
   "source": [
    "#save\n",
    "save_obj(df_msft_final,\"data/df_msft_final2\")"
   ]
  },
  {
   "cell_type": "code",
   "execution_count": 9,
   "metadata": {},
   "outputs": [],
   "source": [
    "df_msft_final = load_obj(\"data/df_msft_final2\")"
   ]
  },
  {
   "cell_type": "code",
   "execution_count": 6,
   "metadata": {},
   "outputs": [
    {
     "data": {
      "text/html": [
       "<div>\n",
       "<style scoped>\n",
       "    .dataframe tbody tr th:only-of-type {\n",
       "        vertical-align: middle;\n",
       "    }\n",
       "\n",
       "    .dataframe tbody tr th {\n",
       "        vertical-align: top;\n",
       "    }\n",
       "\n",
       "    .dataframe thead th {\n",
       "        text-align: right;\n",
       "    }\n",
       "</style>\n",
       "<table border=\"1\" class=\"dataframe\">\n",
       "  <thead>\n",
       "    <tr style=\"text-align: right;\">\n",
       "      <th></th>\n",
       "      <th>level_0</th>\n",
       "      <th>index</th>\n",
       "      <th>date</th>\n",
       "      <th>adj_close_price</th>\n",
       "      <th>adj_volume</th>\n",
       "      <th>pricetobook</th>\n",
       "      <th>netdebttoebitda</th>\n",
       "      <th>ltdebttoebitda</th>\n",
       "      <th>adjdilutedeps</th>\n",
       "      <th>dividend</th>\n",
       "      <th>daily_return</th>\n",
       "      <th>weekly_return</th>\n",
       "      <th>monthly_return</th>\n",
       "      <th>daily_vol_10d</th>\n",
       "      <th>weekly_vol_30d</th>\n",
       "      <th>monthly_vol_90d</th>\n",
       "    </tr>\n",
       "  </thead>\n",
       "  <tbody>\n",
       "    <tr>\n",
       "      <th>118</th>\n",
       "      <td>181</td>\n",
       "      <td>1516</td>\n",
       "      <td>2013-09-16</td>\n",
       "      <td>28.447629</td>\n",
       "      <td>55017879.0</td>\n",
       "      <td>3.0522</td>\n",
       "      <td>-2.3458</td>\n",
       "      <td>0.4090</td>\n",
       "      <td>2.58</td>\n",
       "      <td>0.23</td>\n",
       "      <td>-0.006957</td>\n",
       "      <td>0.051581</td>\n",
       "      <td>0.041164</td>\n",
       "      <td>0.020204</td>\n",
       "      <td>0.047429</td>\n",
       "      <td>0.089872</td>\n",
       "    </tr>\n",
       "    <tr>\n",
       "      <th>119</th>\n",
       "      <td>182</td>\n",
       "      <td>1515</td>\n",
       "      <td>2013-09-17</td>\n",
       "      <td>28.559508</td>\n",
       "      <td>84716461.0</td>\n",
       "      <td>3.0642</td>\n",
       "      <td>-2.3458</td>\n",
       "      <td>0.4090</td>\n",
       "      <td>2.58</td>\n",
       "      <td>0.23</td>\n",
       "      <td>0.003925</td>\n",
       "      <td>0.039488</td>\n",
       "      <td>0.048882</td>\n",
       "      <td>0.012683</td>\n",
       "      <td>0.047802</td>\n",
       "      <td>0.089141</td>\n",
       "    </tr>\n",
       "    <tr>\n",
       "      <th>120</th>\n",
       "      <td>183</td>\n",
       "      <td>1514</td>\n",
       "      <td>2013-09-18</td>\n",
       "      <td>28.897747</td>\n",
       "      <td>64103344.0</td>\n",
       "      <td>3.1005</td>\n",
       "      <td>-2.3458</td>\n",
       "      <td>0.4090</td>\n",
       "      <td>2.58</td>\n",
       "      <td>0.23</td>\n",
       "      <td>0.011774</td>\n",
       "      <td>0.028308</td>\n",
       "      <td>0.045477</td>\n",
       "      <td>0.009341</td>\n",
       "      <td>0.047932</td>\n",
       "      <td>0.088328</td>\n",
       "    </tr>\n",
       "    <tr>\n",
       "      <th>121</th>\n",
       "      <td>184</td>\n",
       "      <td>1513</td>\n",
       "      <td>2013-09-19</td>\n",
       "      <td>29.175276</td>\n",
       "      <td>42026553.0</td>\n",
       "      <td>3.1303</td>\n",
       "      <td>-2.3458</td>\n",
       "      <td>0.4090</td>\n",
       "      <td>2.58</td>\n",
       "      <td>0.23</td>\n",
       "      <td>0.009558</td>\n",
       "      <td>0.027118</td>\n",
       "      <td>0.029569</td>\n",
       "      <td>0.009183</td>\n",
       "      <td>0.048048</td>\n",
       "      <td>0.086938</td>\n",
       "    </tr>\n",
       "    <tr>\n",
       "      <th>122</th>\n",
       "      <td>185</td>\n",
       "      <td>1512</td>\n",
       "      <td>2013-09-20</td>\n",
       "      <td>28.438956</td>\n",
       "      <td>102904859.0</td>\n",
       "      <td>3.0513</td>\n",
       "      <td>-2.3458</td>\n",
       "      <td>0.4090</td>\n",
       "      <td>2.58</td>\n",
       "      <td>0.23</td>\n",
       "      <td>-0.025562</td>\n",
       "      <td>0.003085</td>\n",
       "      <td>0.009801</td>\n",
       "      <td>0.013714</td>\n",
       "      <td>0.047859</td>\n",
       "      <td>0.085327</td>\n",
       "    </tr>\n",
       "    <tr>\n",
       "      <th>...</th>\n",
       "      <td>...</td>\n",
       "      <td>...</td>\n",
       "      <td>...</td>\n",
       "      <td>...</td>\n",
       "      <td>...</td>\n",
       "      <td>...</td>\n",
       "      <td>...</td>\n",
       "      <td>...</td>\n",
       "      <td>...</td>\n",
       "      <td>...</td>\n",
       "      <td>...</td>\n",
       "      <td>...</td>\n",
       "      <td>...</td>\n",
       "      <td>...</td>\n",
       "      <td>...</td>\n",
       "      <td>...</td>\n",
       "    </tr>\n",
       "    <tr>\n",
       "      <th>1630</th>\n",
       "      <td>1693</td>\n",
       "      <td>4</td>\n",
       "      <td>2019-09-17</td>\n",
       "      <td>136.924085</td>\n",
       "      <td>17976285.0</td>\n",
       "      <td>10.3740</td>\n",
       "      <td>-1.1611</td>\n",
       "      <td>1.2039</td>\n",
       "      <td>5.06</td>\n",
       "      <td>0.46</td>\n",
       "      <td>0.007745</td>\n",
       "      <td>-0.000946</td>\n",
       "      <td>0.023172</td>\n",
       "      <td>0.010198</td>\n",
       "      <td>0.019840</td>\n",
       "      <td>0.039727</td>\n",
       "    </tr>\n",
       "    <tr>\n",
       "      <th>1631</th>\n",
       "      <td>1694</td>\n",
       "      <td>3</td>\n",
       "      <td>2019-09-18</td>\n",
       "      <td>138.050253</td>\n",
       "      <td>24473386.0</td>\n",
       "      <td>10.4593</td>\n",
       "      <td>-1.1611</td>\n",
       "      <td>1.2039</td>\n",
       "      <td>5.06</td>\n",
       "      <td>0.46</td>\n",
       "      <td>0.008191</td>\n",
       "      <td>0.017772</td>\n",
       "      <td>0.026992</td>\n",
       "      <td>0.009853</td>\n",
       "      <td>0.018114</td>\n",
       "      <td>0.039507</td>\n",
       "    </tr>\n",
       "    <tr>\n",
       "      <th>1632</th>\n",
       "      <td>1695</td>\n",
       "      <td>2</td>\n",
       "      <td>2019-09-19</td>\n",
       "      <td>140.591606</td>\n",
       "      <td>36095413.0</td>\n",
       "      <td>10.6519</td>\n",
       "      <td>-1.1611</td>\n",
       "      <td>1.2039</td>\n",
       "      <td>5.06</td>\n",
       "      <td>0.46</td>\n",
       "      <td>0.018242</td>\n",
       "      <td>0.035719</td>\n",
       "      <td>0.018898</td>\n",
       "      <td>0.010008</td>\n",
       "      <td>0.017611</td>\n",
       "      <td>0.039541</td>\n",
       "    </tr>\n",
       "    <tr>\n",
       "      <th>1633</th>\n",
       "      <td>1696</td>\n",
       "      <td>1</td>\n",
       "      <td>2019-09-20</td>\n",
       "      <td>138.967133</td>\n",
       "      <td>40040766.0</td>\n",
       "      <td>10.5288</td>\n",
       "      <td>-1.1611</td>\n",
       "      <td>1.2039</td>\n",
       "      <td>5.06</td>\n",
       "      <td>0.46</td>\n",
       "      <td>-0.011622</td>\n",
       "      <td>0.013865</td>\n",
       "      <td>0.015809</td>\n",
       "      <td>0.010514</td>\n",
       "      <td>0.017486</td>\n",
       "      <td>0.039571</td>\n",
       "    </tr>\n",
       "    <tr>\n",
       "      <th>1634</th>\n",
       "      <td>1697</td>\n",
       "      <td>0</td>\n",
       "      <td>2019-09-23</td>\n",
       "      <td>138.668151</td>\n",
       "      <td>17408374.0</td>\n",
       "      <td>10.5061</td>\n",
       "      <td>-1.1611</td>\n",
       "      <td>1.2039</td>\n",
       "      <td>5.06</td>\n",
       "      <td>0.46</td>\n",
       "      <td>-0.002154</td>\n",
       "      <td>0.013167</td>\n",
       "      <td>0.027695</td>\n",
       "      <td>0.009752</td>\n",
       "      <td>0.017516</td>\n",
       "      <td>0.039525</td>\n",
       "    </tr>\n",
       "  </tbody>\n",
       "</table>\n",
       "<p>1517 rows × 16 columns</p>\n",
       "</div>"
      ],
      "text/plain": [
       "      level_0  index        date  adj_close_price   adj_volume  pricetobook  \\\n",
       "118       181   1516  2013-09-16        28.447629   55017879.0       3.0522   \n",
       "119       182   1515  2013-09-17        28.559508   84716461.0       3.0642   \n",
       "120       183   1514  2013-09-18        28.897747   64103344.0       3.1005   \n",
       "121       184   1513  2013-09-19        29.175276   42026553.0       3.1303   \n",
       "122       185   1512  2013-09-20        28.438956  102904859.0       3.0513   \n",
       "...       ...    ...         ...              ...          ...          ...   \n",
       "1630     1693      4  2019-09-17       136.924085   17976285.0      10.3740   \n",
       "1631     1694      3  2019-09-18       138.050253   24473386.0      10.4593   \n",
       "1632     1695      2  2019-09-19       140.591606   36095413.0      10.6519   \n",
       "1633     1696      1  2019-09-20       138.967133   40040766.0      10.5288   \n",
       "1634     1697      0  2019-09-23       138.668151   17408374.0      10.5061   \n",
       "\n",
       "      netdebttoebitda  ltdebttoebitda  adjdilutedeps  dividend  daily_return  \\\n",
       "118           -2.3458          0.4090           2.58      0.23     -0.006957   \n",
       "119           -2.3458          0.4090           2.58      0.23      0.003925   \n",
       "120           -2.3458          0.4090           2.58      0.23      0.011774   \n",
       "121           -2.3458          0.4090           2.58      0.23      0.009558   \n",
       "122           -2.3458          0.4090           2.58      0.23     -0.025562   \n",
       "...               ...             ...            ...       ...           ...   \n",
       "1630          -1.1611          1.2039           5.06      0.46      0.007745   \n",
       "1631          -1.1611          1.2039           5.06      0.46      0.008191   \n",
       "1632          -1.1611          1.2039           5.06      0.46      0.018242   \n",
       "1633          -1.1611          1.2039           5.06      0.46     -0.011622   \n",
       "1634          -1.1611          1.2039           5.06      0.46     -0.002154   \n",
       "\n",
       "      weekly_return  monthly_return  daily_vol_10d  weekly_vol_30d  \\\n",
       "118        0.051581        0.041164       0.020204        0.047429   \n",
       "119        0.039488        0.048882       0.012683        0.047802   \n",
       "120        0.028308        0.045477       0.009341        0.047932   \n",
       "121        0.027118        0.029569       0.009183        0.048048   \n",
       "122        0.003085        0.009801       0.013714        0.047859   \n",
       "...             ...             ...            ...             ...   \n",
       "1630      -0.000946        0.023172       0.010198        0.019840   \n",
       "1631       0.017772        0.026992       0.009853        0.018114   \n",
       "1632       0.035719        0.018898       0.010008        0.017611   \n",
       "1633       0.013865        0.015809       0.010514        0.017486   \n",
       "1634       0.013167        0.027695       0.009752        0.017516   \n",
       "\n",
       "      monthly_vol_90d  \n",
       "118          0.089872  \n",
       "119          0.089141  \n",
       "120          0.088328  \n",
       "121          0.086938  \n",
       "122          0.085327  \n",
       "...               ...  \n",
       "1630         0.039727  \n",
       "1631         0.039507  \n",
       "1632         0.039541  \n",
       "1633         0.039571  \n",
       "1634         0.039525  \n",
       "\n",
       "[1517 rows x 16 columns]"
      ]
     },
     "execution_count": 6,
     "metadata": {},
     "output_type": "execute_result"
    }
   ],
   "source": [
    "df_msft_final "
   ]
  },
  {
   "cell_type": "code",
   "execution_count": null,
   "metadata": {},
   "outputs": [],
   "source": [
    "#draw daily vol\n",
    "n = len(df_msft)\n",
    "x = np.linspace(0, n, n)\n",
    "y = df_msft['daily_vol_10d']\n",
    "plt.plot(x, y)\n",
    "plt.show()"
   ]
  },
  {
   "cell_type": "code",
   "execution_count": null,
   "metadata": {},
   "outputs": [],
   "source": [
    "#draw weekly vol\n",
    "n = len(df_msft)\n",
    "x = np.linspace(0, n, n)\n",
    "y = df_msft['weekly_vol_30d']\n",
    "plt.plot(x, y)\n",
    "plt.show()"
   ]
  },
  {
   "cell_type": "code",
   "execution_count": null,
   "metadata": {
    "scrolled": true
   },
   "outputs": [],
   "source": [
    "#draw monthly vol\n",
    "n = len(df_msft)\n",
    "x = np.linspace(0, n, n)\n",
    "y = df_msft['monthly_vol_90d']\n",
    "plt.plot(x, y)\n",
    "plt.show()"
   ]
  },
  {
   "cell_type": "code",
   "execution_count": null,
   "metadata": {},
   "outputs": [],
   "source": []
  },
  {
   "cell_type": "code",
   "execution_count": 8,
   "metadata": {
    "scrolled": true
   },
   "outputs": [],
   "source": [
    "import run\n",
    "import importlib as ib"
   ]
  },
  {
   "cell_type": "code",
   "execution_count": 62,
   "metadata": {},
   "outputs": [],
   "source": [
    "# Seed value\n",
    "# Apparently you may use different seed values at each stage\n",
    "seed_value= 123\n",
    "\n",
    "# 1. Set the `PYTHONHASHSEED` environment variable at a fixed value\n",
    "import os\n",
    "os.environ['PYTHONHASHSEED']=str(seed_value)\n",
    "\n",
    "# 2. Set the `python` built-in pseudo-random generator at a fixed value\n",
    "import random\n",
    "random.seed(seed_value)\n",
    "\n",
    "# 3. Set the `numpy` pseudo-random generator at a fixed value\n",
    "import numpy as np\n",
    "np.random.seed(seed_value)\n",
    "\n",
    "# 4. Set the `tensorflow` pseudo-random generator at a fixed value\n",
    "import tensorflow as tf\n",
    "tf.random.set_seed(seed_value)\n",
    "\n",
    "# 5. Configure a new global `tensorflow` session\n",
    "#from keras import backend as K\n",
    "#session_conf = tf.compat.v1.ConfigProto(intra_op_parallelism_threads=1, inter_op_parallelism_threads=1)\n",
    "#sess = tf.compat.v1.Session(graph=tf.compat.v1.get_default_graph(), config=session_conf)\n",
    "#K.set_session(sess)\n",
    "#sess = K.get_session()"
   ]
  },
  {
   "cell_type": "code",
   "execution_count": 69,
   "metadata": {},
   "outputs": [
    {
     "data": {
      "text/plain": [
       "<module 'run' from 'C:\\\\Users\\\\Zijun\\\\Documents\\\\Projects\\\\Volatility Prediction\\\\run.py'>"
      ]
     },
     "execution_count": 69,
     "metadata": {},
     "output_type": "execute_result"
    }
   ],
   "source": [
    "ib.reload(run)"
   ]
  },
  {
   "cell_type": "code",
   "execution_count": 70,
   "metadata": {},
   "outputs": [],
   "source": [
    "#epoch = 20, daily vol 10d by itself"
   ]
  },
  {
   "cell_type": "code",
   "execution_count": 73,
   "metadata": {
    "scrolled": true
   },
   "outputs": [
    {
     "name": "stdout",
     "output_type": "stream",
     "text": [
      "[Model] Model Compiled\n",
      "Time taken: 0:00:01.456686\n",
      "[Model] Training Started\n",
      "[Model] 20 epochs, 32 batch size, 40 batches per epoch\n",
      "Epoch 1/20\n",
      "40/40 [==============================] - 2s 39ms/step - loss: 0.2361\n",
      "Epoch 2/20\n",
      "40/40 [==============================] - 1s 19ms/step - loss: 0.1639\n",
      "Epoch 3/20\n",
      "40/40 [==============================] - 1s 20ms/step - loss: 0.1098\n",
      "Epoch 4/20\n",
      "40/40 [==============================] - 1s 21ms/step - loss: 0.0839\n",
      "Epoch 5/20\n",
      "40/40 [==============================] - 1s 19ms/step - loss: 0.0714\n",
      "Epoch 6/20\n",
      "40/40 [==============================] - 1s 19ms/step - loss: 0.0601\n",
      "Epoch 7/20\n",
      "40/40 [==============================] - 1s 19ms/step - loss: 0.0580\n",
      "Epoch 8/20\n",
      "40/40 [==============================] - 1s 20ms/step - loss: 0.0531\n",
      "Epoch 9/20\n",
      "40/40 [==============================] - 1s 20ms/step - loss: 0.0459\n",
      "Epoch 10/20\n",
      "40/40 [==============================] - 1s 22ms/step - loss: 0.0428\n",
      "Epoch 11/20\n",
      "40/40 [==============================] - 1s 21ms/step - loss: 0.0484\n",
      "Epoch 12/20\n",
      "40/40 [==============================] - 1s 20ms/step - loss: 0.0491\n",
      "Epoch 13/20\n",
      "40/40 [==============================] - 1s 20ms/step - loss: 0.0447\n",
      "Epoch 14/20\n",
      "40/40 [==============================] - 1s 20ms/step - loss: 0.0469\n",
      "Epoch 15/20\n",
      "40/40 [==============================] - 1s 19ms/step - loss: 0.0478\n",
      "Epoch 16/20\n",
      "40/40 [==============================] - 1s 19ms/step - loss: 0.0478\n",
      "Epoch 17/20\n",
      "40/40 [==============================] - 1s 19ms/step - loss: 0.0580\n",
      "Epoch 18/20\n",
      "40/40 [==============================] - 1s 19ms/step - loss: 0.0580\n",
      "Epoch 19/20\n",
      "40/40 [==============================] - 1s 20ms/step - loss: 0.0507\n",
      "Epoch 20/20\n",
      "40/40 [==============================] - 1s 19ms/step - loss: 0.0474\n",
      "[Model] Training Completed. Model saved as saved_models\\11122019-194136-e20.h5\n",
      "Time taken: 0:00:27.116731\n",
      "[Model] Predicting Point-by-Point...\n"
     ]
    },
    {
     "data": {
      "image/png": "[encoded data removed]",
      "text/plain": [
       "<Figure size 432x288 with 1 Axes>"
      ]
     },
     "metadata": {},
     "output_type": "display_data"
    },
    {
     "name": "stdout",
     "output_type": "stream",
     "text": [
      "the mae of test sample is:  0.08944599772809317\n"
     ]
    }
   ],
   "source": [
    "run.main()"
   ]
  },
  {
   "cell_type": "code",
   "execution_count": null,
   "metadata": {},
   "outputs": [],
   "source": [
    "#daily_vol_10d,vol and volume"
   ]
  },
  {
   "cell_type": "code",
   "execution_count": 75,
   "metadata": {},
   "outputs": [
    {
     "data": {
      "text/plain": [
       "<module 'run' from 'C:\\\\Users\\\\Zijun\\\\Documents\\\\Projects\\\\Volatility Prediction\\\\run.py'>"
      ]
     },
     "execution_count": 75,
     "metadata": {},
     "output_type": "execute_result"
    }
   ],
   "source": [
    "ib.reload(run)"
   ]
  },
  {
   "cell_type": "code",
   "execution_count": 76,
   "metadata": {
    "scrolled": true
   },
   "outputs": [
    {
     "name": "stdout",
     "output_type": "stream",
     "text": [
      "[Model] Model Compiled\n",
      "Time taken: 0:00:00.795256\n",
      "[Model] Training Started\n",
      "[Model] 20 epochs, 32 batch size, 40 batches per epoch\n",
      "Epoch 1/20\n",
      "40/40 [==============================] - 2s 38ms/step - loss: 0.2226\n",
      "Epoch 2/20\n",
      "40/40 [==============================] - 1s 19ms/step - loss: 0.1454\n",
      "Epoch 3/20\n",
      "40/40 [==============================] - 1s 19ms/step - loss: 0.1041\n",
      "Epoch 4/20\n",
      "40/40 [==============================] - 1s 19ms/step - loss: 0.0785\n",
      "Epoch 5/20\n",
      "40/40 [==============================] - 1s 19ms/step - loss: 0.0721\n",
      "Epoch 6/20\n",
      "40/40 [==============================] - 1s 19ms/step - loss: 0.0643\n",
      "Epoch 7/20\n",
      "40/40 [==============================] - 1s 21ms/step - loss: 0.0599\n",
      "Epoch 8/20\n",
      "40/40 [==============================] - 1s 22ms/step - loss: 0.0533\n",
      "Epoch 9/20\n",
      "40/40 [==============================] - 1s 22ms/step - loss: 0.0483\n",
      "Epoch 10/20\n",
      "40/40 [==============================] - 1s 21ms/step - loss: 0.0460\n",
      "Epoch 11/20\n",
      "40/40 [==============================] - 1s 21ms/step - loss: 0.0500\n",
      "Epoch 12/20\n",
      "40/40 [==============================] - 1s 19ms/step - loss: 0.0515\n",
      "Epoch 13/20\n",
      "40/40 [==============================] - 1s 20ms/step - loss: 0.0462\n",
      "Epoch 14/20\n",
      "40/40 [==============================] - 1s 19ms/step - loss: 0.0467\n",
      "Epoch 15/20\n",
      "40/40 [==============================] - 1s 19ms/step - loss: 0.0474\n",
      "Epoch 16/20\n",
      "40/40 [==============================] - 1s 19ms/step - loss: 0.0485\n",
      "Epoch 17/20\n",
      "40/40 [==============================] - 1s 19ms/step - loss: 0.0636\n",
      "Epoch 18/20\n",
      "40/40 [==============================] - 1s 20ms/step - loss: 0.0540\n",
      "Epoch 19/20\n",
      "40/40 [==============================] - 1s 19ms/step - loss: 0.0456\n",
      "Epoch 20/20\n",
      "40/40 [==============================] - 1s 22ms/step - loss: 0.0489\n",
      "[Model] Training Completed. Model saved as saved_models\\11122019-202537-e20.h5\n",
      "Time taken: 0:00:27.733463\n",
      "[Model] Predicting Point-by-Point...\n"
     ]
    },
    {
     "data": {
      "image/png": "[encoded data removed]",
      "text/plain": [
       "<Figure size 432x288 with 1 Axes>"
      ]
     },
     "metadata": {},
     "output_type": "display_data"
    },
    {
     "name": "stdout",
     "output_type": "stream",
     "text": [
      "the mae of test sample is:  0.09390919339056165\n"
     ]
    }
   ],
   "source": [
    "run.main()"
   ]
  },
  {
   "cell_type": "code",
   "execution_count": 77,
   "metadata": {},
   "outputs": [
    {
     "data": {
      "text/plain": [
       "<module 'run' from 'C:\\\\Users\\\\Zijun\\\\Documents\\\\Projects\\\\Volatility Prediction\\\\run.py'>"
      ]
     },
     "execution_count": 77,
     "metadata": {},
     "output_type": "execute_result"
    }
   ],
   "source": [
    "#daily vol + volume + pricetobook\n",
    "ib.reload(run)"
   ]
  },
  {
   "cell_type": "code",
   "execution_count": 78,
   "metadata": {},
   "outputs": [
    {
     "name": "stdout",
     "output_type": "stream",
     "text": [
      "[Model] Model Compiled\n",
      "Time taken: 0:00:00.818982\n",
      "[Model] Training Started\n",
      "[Model] 20 epochs, 32 batch size, 40 batches per epoch\n",
      "Epoch 1/20\n",
      "40/40 [==============================] - 2s 40ms/step - loss: 0.2229\n",
      "Epoch 2/20\n",
      "40/40 [==============================] - 1s 20ms/step - loss: 0.1459\n",
      "Epoch 3/20\n",
      "40/40 [==============================] - 1s 20ms/step - loss: 0.1038\n",
      "Epoch 4/20\n",
      "40/40 [==============================] - 1s 21ms/step - loss: 0.0786\n",
      "Epoch 5/20\n",
      "40/40 [==============================] - 1s 20ms/step - loss: 0.0720\n",
      "Epoch 6/20\n",
      "40/40 [==============================] - 1s 20ms/step - loss: 0.0640\n",
      "Epoch 7/20\n",
      "40/40 [==============================] - 1s 20ms/step - loss: 0.0598\n",
      "Epoch 8/20\n",
      "40/40 [==============================] - 1s 21ms/step - loss: 0.0531\n",
      "Epoch 9/20\n",
      "40/40 [==============================] - 1s 22ms/step - loss: 0.0482\n",
      "Epoch 10/20\n",
      "40/40 [==============================] - 1s 21ms/step - loss: 0.0457\n",
      "Epoch 11/20\n",
      "40/40 [==============================] - 1s 20ms/step - loss: 0.0498\n",
      "Epoch 12/20\n",
      "40/40 [==============================] - 1s 20ms/step - loss: 0.0510\n",
      "Epoch 13/20\n",
      "40/40 [==============================] - 1s 20ms/step - loss: 0.0458: 0s - loss: 0.\n",
      "Epoch 14/20\n",
      "40/40 [==============================] - 1s 20ms/step - loss: 0.0465\n",
      "Epoch 15/20\n",
      "40/40 [==============================] - 1s 20ms/step - loss: 0.0473\n",
      "Epoch 16/20\n",
      "40/40 [==============================] - 1s 20ms/step - loss: 0.0480\n",
      "Epoch 17/20\n",
      "40/40 [==============================] - 1s 20ms/step - loss: 0.0620\n",
      "Epoch 18/20\n",
      "40/40 [==============================] - 1s 20ms/step - loss: 0.0536\n",
      "Epoch 19/20\n",
      "40/40 [==============================] - 1s 21ms/step - loss: 0.0453\n",
      "Epoch 20/20\n",
      "40/40 [==============================] - 1s 21ms/step - loss: 0.0494\n",
      "[Model] Training Completed. Model saved as saved_models\\11122019-202639-e20.h5\n",
      "Time taken: 0:00:28.800830\n",
      "[Model] Predicting Point-by-Point...\n"
     ]
    },
    {
     "data": {
      "image/png": "[encoded data removed]",
      "text/plain": [
       "<Figure size 432x288 with 1 Axes>"
      ]
     },
     "metadata": {},
     "output_type": "display_data"
    },
    {
     "name": "stdout",
     "output_type": "stream",
     "text": [
      "the mae of test sample is:  0.09484343725291611\n"
     ]
    }
   ],
   "source": [
    "run.main()"
   ]
  },
  {
   "cell_type": "code",
   "execution_count": 81,
   "metadata": {},
   "outputs": [
    {
     "data": {
      "text/plain": [
       "<module 'run' from 'C:\\\\Users\\\\Zijun\\\\Documents\\\\Projects\\\\Volatility Prediction\\\\run.py'>"
      ]
     },
     "execution_count": 81,
     "metadata": {},
     "output_type": "execute_result"
    }
   ],
   "source": [
    "#use all the features\n",
    "ib.reload(run)"
   ]
  },
  {
   "cell_type": "code",
   "execution_count": 82,
   "metadata": {
    "scrolled": true
   },
   "outputs": [
    {
     "name": "stdout",
     "output_type": "stream",
     "text": [
      "[Model] Model Compiled\n",
      "Time taken: 0:00:00.783311\n",
      "[Model] Training Started\n",
      "[Model] 20 epochs, 32 batch size, 40 batches per epoch\n",
      "Epoch 1/20\n",
      "40/40 [==============================] - 2s 40ms/step - loss: 0.2260\n",
      "Epoch 2/20\n",
      "40/40 [==============================] - 1s 21ms/step - loss: 0.1478\n",
      "Epoch 3/20\n",
      "40/40 [==============================] - 1s 20ms/step - loss: 0.1020\n",
      "Epoch 4/20\n",
      "40/40 [==============================] - 1s 21ms/step - loss: 0.0794\n",
      "Epoch 5/20\n",
      "40/40 [==============================] - 1s 25ms/step - loss: 0.0726\n",
      "Epoch 6/20\n",
      "40/40 [==============================] - 1s 24ms/step - loss: 0.0643\n",
      "Epoch 7/20\n",
      "40/40 [==============================] - 1s 22ms/step - loss: 0.0598\n",
      "Epoch 8/20\n",
      "40/40 [==============================] - 1s 22ms/step - loss: 0.0529\n",
      "Epoch 9/20\n",
      "40/40 [==============================] - 1s 21ms/step - loss: 0.0485\n",
      "Epoch 10/20\n",
      "40/40 [==============================] - 1s 21ms/step - loss: 0.0460\n",
      "Epoch 11/20\n",
      "40/40 [==============================] - 1s 20ms/step - loss: 0.0501\n",
      "Epoch 12/20\n",
      "40/40 [==============================] - 1s 21ms/step - loss: 0.0503\n",
      "Epoch 13/20\n",
      "40/40 [==============================] - 1s 21ms/step - loss: 0.0458\n",
      "Epoch 14/20\n",
      "40/40 [==============================] - 1s 21ms/step - loss: 0.0465\n",
      "Epoch 15/20\n",
      "40/40 [==============================] - 1s 21ms/step - loss: 0.0474\n",
      "Epoch 16/20\n",
      "40/40 [==============================] - 1s 21ms/step - loss: 0.0480\n",
      "Epoch 17/20\n",
      "40/40 [==============================] - 1s 21ms/step - loss: 0.0635\n",
      "Epoch 18/20\n",
      "40/40 [==============================] - 1s 20ms/step - loss: 0.0559\n",
      "Epoch 19/20\n",
      "40/40 [==============================] - 1s 21ms/step - loss: 0.0456\n",
      "Epoch 20/20\n",
      "40/40 [==============================] - 1s 21ms/step - loss: 0.0492\n",
      "[Model] Training Completed. Model saved as saved_models\\11122019-202921-e20.h5\n",
      "Time taken: 0:00:30.517389\n",
      "[Model] Predicting Point-by-Point...\n"
     ]
    },
    {
     "data": {
      "image/png": "[encoded data removed]",
      "text/plain": [
       "<Figure size 432x288 with 1 Axes>"
      ]
     },
     "metadata": {},
     "output_type": "display_data"
    },
    {
     "name": "stdout",
     "output_type": "stream",
     "text": [
      "the mae of test sample is:  0.09496995558011048\n"
     ]
    }
   ],
   "source": [
    "run.main()"
   ]
  },
  {
   "cell_type": "code",
   "execution_count": 87,
   "metadata": {},
   "outputs": [
    {
     "name": "stdout",
     "output_type": "stream",
     "text": [
      "[Model] Model Compiled\n",
      "Time taken: 0:00:02.293566\n",
      "[Model] Training Started\n",
      "[Model] 20 epochs, 32 batch size, 40 batches per epoch\n",
      "Epoch 1/20\n",
      "40/40 [==============================] - 3s 75ms/step - loss: 0.2377\n",
      "Epoch 2/20\n",
      "40/40 [==============================] - 2s 60ms/step - loss: 0.1667\n",
      "Epoch 3/20\n",
      "40/40 [==============================] - 2s 59ms/step - loss: 0.1102\n",
      "Epoch 4/20\n",
      "40/40 [==============================] - 2s 51ms/step - loss: 0.0869\n",
      "Epoch 5/20\n",
      "40/40 [==============================] - 2s 54ms/step - loss: 0.0737\n",
      "Epoch 6/20\n",
      "40/40 [==============================] - 2s 56ms/step - loss: 0.0619: \n",
      "Epoch 7/20\n",
      "40/40 [==============================] - 2s 53ms/step - loss: 0.0574\n",
      "Epoch 8/20\n",
      "40/40 [==============================] - 2s 52ms/step - loss: 0.0520\n",
      "Epoch 9/20\n",
      "40/40 [==============================] - 2s 53ms/step - loss: 0.0457\n",
      "Epoch 10/20\n",
      "40/40 [==============================] - 2s 61ms/step - loss: 0.0427\n",
      "Epoch 11/20\n",
      "40/40 [==============================] - 2s 53ms/step - loss: 0.0481\n",
      "Epoch 12/20\n",
      "40/40 [==============================] - 2s 61ms/step - loss: 0.0492\n",
      "Epoch 13/20\n",
      "40/40 [==============================] - 2s 59ms/step - loss: 0.0452\n",
      "Epoch 14/20\n",
      "40/40 [==============================] - 2s 59ms/step - loss: 0.0469\n",
      "Epoch 15/20\n",
      "40/40 [==============================] - 2s 58ms/step - loss: 0.0477\n",
      "Epoch 16/20\n",
      "40/40 [==============================] - 2s 54ms/step - loss: 0.0476\n",
      "Epoch 17/20\n",
      "40/40 [==============================] - 2s 55ms/step - loss: 0.0546\n",
      "Epoch 18/20\n",
      "40/40 [==============================] - 2s 56ms/step - loss: 0.0549\n",
      "Epoch 19/20\n",
      "40/40 [==============================] - 2s 56ms/step - loss: 0.0512\n",
      "Epoch 20/20\n",
      "40/40 [==============================] - 2s 60ms/step - loss: 0.0488\n",
      "[Model] Training Completed. Model saved as saved_models\\11122019-204127-e20.h5\n",
      "Time taken: 0:01:01.924450\n",
      "[Model] Predicting Point-by-Point...\n"
     ]
    },
    {
     "data": {
      "image/png": "[encoded data removed]",
      "text/plain": [
       "<Figure size 432x288 with 1 Axes>"
      ]
     },
     "metadata": {},
     "output_type": "display_data"
    },
    {
     "name": "stdout",
     "output_type": "stream",
     "text": [
      "the mae of test sample is:  0.09449591557586588\n"
     ]
    }
   ],
   "source": [
    "#without volume\n",
    "ib.reload(run)\n",
    "run.main()"
   ]
  },
  {
   "cell_type": "code",
   "execution_count": 83,
   "metadata": {
    "scrolled": true
   },
   "outputs": [
    {
     "name": "stdout",
     "output_type": "stream",
     "text": [
      "[Model] Model Compiled\n",
      "Time taken: 0:00:00.780700\n",
      "[Model] Training Started\n",
      "[Model] 20 epochs, 32 batch size, 40 batches per epoch\n",
      "Epoch 1/20\n",
      "40/40 [==============================] - 3s 78ms/step - loss: 0.1119\n",
      "Epoch 2/20\n",
      "40/40 [==============================] - 2s 57ms/step - loss: 0.0687\n",
      "Epoch 3/20\n",
      "40/40 [==============================] - 2s 57ms/step - loss: 0.0426\n",
      "Epoch 4/20\n",
      "40/40 [==============================] - 2s 58ms/step - loss: 0.0393\n",
      "Epoch 5/20\n",
      "40/40 [==============================] - 3s 66ms/step - loss: 0.0294\n",
      "Epoch 6/20\n",
      "40/40 [==============================] - 3s 64ms/step - loss: 0.0270\n",
      "Epoch 7/20\n",
      "40/40 [==============================] - 3s 63ms/step - loss: 0.0230\n",
      "Epoch 8/20\n",
      "40/40 [==============================] - 2s 60ms/step - loss: 0.0212\n",
      "Epoch 9/20\n",
      "40/40 [==============================] - 3s 71ms/step - loss: 0.0180\n",
      "Epoch 10/20\n",
      "40/40 [==============================] - 3s 73ms/step - loss: 0.0203\n",
      "Epoch 11/20\n",
      "40/40 [==============================] - 3s 76ms/step - loss: 0.0148\n",
      "Epoch 12/20\n",
      "40/40 [==============================] - 3s 67ms/step - loss: 0.0144\n",
      "Epoch 13/20\n",
      "40/40 [==============================] - 3s 70ms/step - loss: 0.0128\n",
      "Epoch 14/20\n",
      "40/40 [==============================] - 3s 69ms/step - loss: 0.0111\n",
      "Epoch 15/20\n",
      "40/40 [==============================] - 3s 67ms/step - loss: 0.0112\n",
      "Epoch 16/20\n",
      "40/40 [==============================] - 3s 69ms/step - loss: 0.0089\n",
      "Epoch 17/20\n",
      "40/40 [==============================] - 3s 74ms/step - loss: 0.0090\n",
      "Epoch 18/20\n",
      "40/40 [==============================] - 3s 73ms/step - loss: 0.0134\n",
      "Epoch 19/20\n",
      "40/40 [==============================] - 4s 92ms/step - loss: 0.0072\n",
      "Epoch 20/20\n",
      "40/40 [==============================] - 3s 80ms/step - loss: 0.0074\n",
      "[Model] Training Completed. Model saved as saved_models\\11122019-203123-e20.h5\n",
      "Time taken: 0:01:08.258157\n",
      "[Model] Predicting Point-by-Point...\n"
     ]
    },
    {
     "data": {
      "image/png": "[encoded data removed]",
      "text/plain": [
       "<Figure size 432x288 with 1 Axes>"
      ]
     },
     "metadata": {},
     "output_type": "display_data"
    },
    {
     "name": "stdout",
     "output_type": "stream",
     "text": [
      "the mae of test sample is:  0.03500349104127174\n"
     ]
    }
   ],
   "source": [
    "#weekly vol\n",
    "ib.reload(run)\n",
    "run.main()"
   ]
  },
  {
   "cell_type": "code",
   "execution_count": 84,
   "metadata": {},
   "outputs": [
    {
     "name": "stdout",
     "output_type": "stream",
     "text": [
      "[Model] Model Compiled\n",
      "Time taken: 0:00:01.070889\n",
      "[Model] Training Started\n",
      "[Model] 20 epochs, 32 batch size, 40 batches per epoch\n",
      "Epoch 1/20\n",
      "40/40 [==============================] - 4s 101ms/step - loss: 0.1197\n",
      "Epoch 2/20\n",
      "40/40 [==============================] - 3s 73ms/step - loss: 0.0607\n",
      "Epoch 3/20\n",
      "40/40 [==============================] - 3s 76ms/step - loss: 0.0407\n",
      "Epoch 4/20\n",
      "40/40 [==============================] - 3s 76ms/step - loss: 0.0343\n",
      "Epoch 5/20\n",
      "40/40 [==============================] - 3s 74ms/step - loss: 0.0248\n",
      "Epoch 6/20\n",
      "40/40 [==============================] - 3s 79ms/step - loss: 0.0247\n",
      "Epoch 7/20\n",
      "40/40 [==============================] - 3s 80ms/step - loss: 0.0211\n",
      "Epoch 8/20\n",
      "40/40 [==============================] - 3s 81ms/step - loss: 0.0283\n",
      "Epoch 9/20\n",
      "40/40 [==============================] - 4s 88ms/step - loss: 0.0167\n",
      "Epoch 10/20\n",
      "40/40 [==============================] - 3s 84ms/step - loss: 0.0192\n",
      "Epoch 11/20\n",
      "40/40 [==============================] - 3s 78ms/step - loss: 0.0152\n",
      "Epoch 12/20\n",
      "40/40 [==============================] - 3s 78ms/step - loss: 0.0151\n",
      "Epoch 13/20\n",
      "40/40 [==============================] - 3s 80ms/step - loss: 0.0141\n",
      "Epoch 14/20\n",
      "40/40 [==============================] - 3s 81ms/step - loss: 0.0123\n",
      "Epoch 15/20\n",
      "40/40 [==============================] - 3s 79ms/step - loss: 0.0129\n",
      "Epoch 16/20\n",
      "40/40 [==============================] - 3s 81ms/step - loss: 0.0115\n",
      "Epoch 17/20\n",
      "40/40 [==============================] - 4s 90ms/step - loss: 0.0110\n",
      "Epoch 18/20\n",
      "40/40 [==============================] - 4s 93ms/step - loss: 0.0148: 2s - loss: 0 \n",
      "Epoch 19/20\n",
      "40/40 [==============================] - 3s 84ms/step - loss: 0.0091\n",
      "Epoch 20/20\n",
      "40/40 [==============================] - 3s 85ms/step - loss: 0.0098: 1\n",
      "[Model] Training Completed. Model saved as saved_models\\11122019-203346-e20.h5\n",
      "Time taken: 0:01:21.467027\n",
      "[Model] Predicting Point-by-Point...\n"
     ]
    },
    {
     "data": {
      "image/png": "[encoded data removed]",
      "text/plain": [
       "<Figure size 432x288 with 1 Axes>"
      ]
     },
     "metadata": {},
     "output_type": "display_data"
    },
    {
     "name": "stdout",
     "output_type": "stream",
     "text": [
      "the mae of test sample is:  0.04462828007865752\n"
     ]
    }
   ],
   "source": [
    "#weekly vol + volume\n",
    "ib.reload(run)\n",
    "run.main()"
   ]
  },
  {
   "cell_type": "code",
   "execution_count": 9,
   "metadata": {},
   "outputs": [
    {
     "name": "stdout",
     "output_type": "stream",
     "text": [
      "[Model] Model Compiled\n",
      "Time taken: 0:00:00.523562\n",
      "[Model] Training Started\n",
      "[Model] 20 epochs, 32 batch size, 40 batches per epoch\n",
      "Epoch 1/20\n",
      "40/40 [==============================] - 3s 77ms/step - loss: 0.1202\n",
      "Epoch 2/20\n",
      "40/40 [==============================] - 2s 56ms/step - loss: 0.0580\n",
      "Epoch 3/20\n",
      "40/40 [==============================] - 2s 54ms/step - loss: 0.0440\n",
      "Epoch 4/20\n",
      "40/40 [==============================] - 2s 55ms/step - loss: 0.0327: 0s - loss:\n",
      "Epoch 5/20\n",
      "40/40 [==============================] - 2s 57ms/step - loss: 0.0304\n",
      "Epoch 6/20\n",
      "40/40 [==============================] - 2s 59ms/step - loss: 0.0230\n",
      "Epoch 7/20\n",
      "40/40 [==============================] - 2s 55ms/step - loss: 0.0254\n",
      "Epoch 8/20\n",
      "40/40 [==============================] - 2s 55ms/step - loss: 0.0204\n",
      "Epoch 9/20\n",
      "40/40 [==============================] - 2s 55ms/step - loss: 0.0185\n",
      "Epoch 10/20\n",
      "40/40 [==============================] - 2s 55ms/step - loss: 0.0199\n",
      "Epoch 11/20\n",
      "40/40 [==============================] - 2s 55ms/step - loss: 0.0169\n",
      "Epoch 12/20\n",
      "40/40 [==============================] - 2s 55ms/step - loss: 0.0170\n",
      "Epoch 13/20\n",
      "40/40 [==============================] - 2s 58ms/step - loss: 0.0171\n",
      "Epoch 14/20\n",
      "40/40 [==============================] - 2s 56ms/step - loss: 0.0155\n",
      "Epoch 15/20\n",
      "40/40 [==============================] - 2s 55ms/step - loss: 0.0117\n",
      "Epoch 16/20\n",
      "40/40 [==============================] - 2s 55ms/step - loss: 0.0109\n",
      "Epoch 17/20\n",
      "40/40 [==============================] - 2s 60ms/step - loss: 0.0107\n",
      "Epoch 18/20\n",
      "40/40 [==============================] - 3s 64ms/step - loss: 0.0093\n",
      "Epoch 19/20\n",
      "40/40 [==============================] - 2s 59ms/step - loss: 0.0094\n",
      "Epoch 20/20\n",
      "40/40 [==============================] - 3s 64ms/step - loss: 0.0113\n",
      "[Model] Training Completed. Model saved as saved_models\\11122019-204700-e20.h5\n",
      "Time taken: 0:00:48.060700\n",
      "[Model] Predicting Point-by-Point...\n"
     ]
    },
    {
     "data": {
      "image/png": "[encoded data removed]",
      "text/plain": [
       "<Figure size 432x288 with 1 Axes>"
      ]
     },
     "metadata": {},
     "output_type": "display_data"
    },
    {
     "name": "stdout",
     "output_type": "stream",
     "text": [
      "the mae of test sample is:  0.04592185660206939\n"
     ]
    }
   ],
   "source": [
    "#weekly vol + volume + price to book\n",
    "ib.reload(run)\n",
    "run.main()"
   ]
  },
  {
   "cell_type": "code",
   "execution_count": 10,
   "metadata": {},
   "outputs": [
    {
     "name": "stdout",
     "output_type": "stream",
     "text": [
      "[Model] Model Compiled\n",
      "Time taken: 0:00:00.364026\n",
      "[Model] Training Started\n",
      "[Model] 20 epochs, 32 batch size, 40 batches per epoch\n",
      "Epoch 1/20\n",
      "40/40 [==============================] - 3s 79ms/step - loss: 0.1260\n",
      "Epoch 2/20\n",
      "40/40 [==============================] - 2s 62ms/step - loss: 0.0697\n",
      "Epoch 3/20\n",
      "40/40 [==============================] - 2s 59ms/step - loss: 0.0387\n",
      "Epoch 4/20\n",
      "40/40 [==============================] - 2s 59ms/step - loss: 0.0336\n",
      "Epoch 5/20\n",
      "40/40 [==============================] - 2s 60ms/step - loss: 0.0318\n",
      "Epoch 6/20\n",
      "40/40 [==============================] - 2s 60ms/step - loss: 0.0256\n",
      "Epoch 7/20\n",
      "40/40 [==============================] - 2s 59ms/step - loss: 0.0284\n",
      "Epoch 8/20\n",
      "40/40 [==============================] - 2s 62ms/step - loss: 0.0210\n",
      "Epoch 9/20\n",
      "40/40 [==============================] - 2s 61ms/step - loss: 0.0191\n",
      "Epoch 10/20\n",
      "40/40 [==============================] - 2s 60ms/step - loss: 0.0212\n",
      "Epoch 11/20\n",
      "40/40 [==============================] - 2s 62ms/step - loss: 0.0183\n",
      "Epoch 12/20\n",
      "40/40 [==============================] - 3s 70ms/step - loss: 0.0176\n",
      "Epoch 13/20\n",
      "40/40 [==============================] - 2s 61ms/step - loss: 0.0167\n",
      "Epoch 14/20\n",
      "40/40 [==============================] - 3s 69ms/step - loss: 0.0157\n",
      "Epoch 15/20\n",
      "40/40 [==============================] - 3s 72ms/step - loss: 0.0128\n",
      "Epoch 16/20\n",
      "40/40 [==============================] - 3s 69ms/step - loss: 0.0120\n",
      "Epoch 17/20\n",
      "40/40 [==============================] - 3s 70ms/step - loss: 0.0116\n",
      "Epoch 18/20\n",
      "40/40 [==============================] - 3s 70ms/step - loss: 0.0104\n",
      "Epoch 19/20\n",
      "40/40 [==============================] - 3s 69ms/step - loss: 0.0104\n",
      "Epoch 20/20\n",
      "40/40 [==============================] - 3s 73ms/step - loss: 0.0115\n",
      "[Model] Training Completed. Model saved as saved_models\\11122019-204901-e20.h5\n",
      "Time taken: 0:00:54.428312\n",
      "[Model] Predicting Point-by-Point...\n"
     ]
    },
    {
     "data": {
      "image/png": "[encoded data removed]",
      "text/plain": [
       "<Figure size 432x288 with 1 Axes>"
      ]
     },
     "metadata": {},
     "output_type": "display_data"
    },
    {
     "name": "stdout",
     "output_type": "stream",
     "text": [
      "the mae of test sample is:  0.04624166373302408\n"
     ]
    }
   ],
   "source": [
    "#all features\n",
    "ib.reload(run)\n",
    "run.main()"
   ]
  },
  {
   "cell_type": "code",
   "execution_count": 11,
   "metadata": {},
   "outputs": [
    {
     "name": "stdout",
     "output_type": "stream",
     "text": [
      "[Model] Model Compiled\n",
      "Time taken: 0:00:00.460300\n",
      "[Model] Training Started\n",
      "[Model] 20 epochs, 32 batch size, 38 batches per epoch\n",
      "Epoch 1/20\n",
      "38/38 [==============================] - 7s 195ms/step - loss: 0.0492\n",
      "Epoch 2/20\n",
      "38/38 [==============================] - 7s 177ms/step - loss: 0.0158\n",
      "Epoch 3/20\n",
      "38/38 [==============================] - 7s 176ms/step - loss: 0.0143\n",
      "Epoch 4/20\n",
      "38/38 [==============================] - 7s 175ms/step - loss: 0.0108\n",
      "Epoch 5/20\n",
      "38/38 [==============================] - 7s 185ms/step - loss: 0.0125\n",
      "Epoch 6/20\n",
      "38/38 [==============================] - 7s 192ms/step - loss: 0.0091\n",
      "Epoch 7/20\n",
      "38/38 [==============================] - 8s 202ms/step - loss: 0.0137\n",
      "Epoch 8/20\n",
      "38/38 [==============================] - 8s 198ms/step - loss: 0.0074\n",
      "Epoch 9/20\n",
      "38/38 [==============================] - 8s 211ms/step - loss: 0.0101\n",
      "Epoch 10/20\n",
      "38/38 [==============================] - 8s 211ms/step - loss: 0.0086\n",
      "Epoch 11/20\n",
      "38/38 [==============================] - 8s 221ms/step - loss: 0.0062\n",
      "Epoch 12/20\n",
      "38/38 [==============================] - 8s 218ms/step - loss: 0.0043\n",
      "Epoch 13/20\n",
      "38/38 [==============================] - 9s 230ms/step - loss: 0.0048\n",
      "Epoch 14/20\n",
      "38/38 [==============================] - 9s 241ms/step - loss: 0.0042\n",
      "Epoch 15/20\n",
      "38/38 [==============================] - 10s 251ms/step - loss: 0.0060\n",
      "Epoch 16/20\n",
      "38/38 [==============================] - 10s 265ms/step - loss: 0.0069\n",
      "Epoch 17/20\n",
      "38/38 [==============================] - 10s 264ms/step - loss: 0.0085\n",
      "Epoch 18/20\n",
      "38/38 [==============================] - 10s 270ms/step - loss: 0.0069\n",
      "Epoch 19/20\n",
      "38/38 [==============================] - 10s 265ms/step - loss: 0.0048\n",
      "Epoch 20/20\n",
      "38/38 [==============================] - 10s 269ms/step - loss: 0.0037\n",
      "[Model] Training Completed. Model saved as saved_models\\11122019-205115-e20.h5\n",
      "Time taken: 0:02:50.455921\n",
      "[Model] Predicting Point-by-Point...\n"
     ]
    },
    {
     "data": {
      "image/png": "[encoded data removed]",
      "text/plain": [
       "<Figure size 432x288 with 1 Axes>"
      ]
     },
     "metadata": {},
     "output_type": "display_data"
    },
    {
     "name": "stdout",
     "output_type": "stream",
     "text": [
      "the mae of test sample is:  0.041658293326289134\n"
     ]
    }
   ],
   "source": [
    "#monthly vol\n",
    "ib.reload(run)\n",
    "run.main()"
   ]
  },
  {
   "cell_type": "code",
   "execution_count": 12,
   "metadata": {},
   "outputs": [
    {
     "name": "stdout",
     "output_type": "stream",
     "text": [
      "[Model] Model Compiled\n",
      "Time taken: 0:00:00.492190\n",
      "[Model] Training Started\n",
      "[Model] 20 epochs, 32 batch size, 38 batches per epoch\n",
      "Epoch 1/20\n",
      "38/38 [==============================] - 7s 176ms/step - loss: 0.0592\n",
      "Epoch 2/20\n",
      "38/38 [==============================] - 6s 163ms/step - loss: 0.0198\n",
      "Epoch 3/20\n",
      "38/38 [==============================] - 6s 159ms/step - loss: 0.0291\n",
      "Epoch 4/20\n",
      "38/38 [==============================] - 6s 159ms/step - loss: 0.0118\n",
      "Epoch 5/20\n",
      "38/38 [==============================] - 6s 164ms/step - loss: 0.0110\n",
      "Epoch 6/20\n",
      "38/38 [==============================] - 6s 159ms/step - loss: 0.0095\n",
      "Epoch 7/20\n",
      "38/38 [==============================] - 6s 171ms/step - loss: 0.0074\n",
      "Epoch 8/20\n",
      "38/38 [==============================] - 7s 177ms/step - loss: 0.0120\n",
      "Epoch 9/20\n",
      "38/38 [==============================] - 7s 179ms/step - loss: 0.0093\n",
      "Epoch 10/20\n",
      "38/38 [==============================] - 7s 183ms/step - loss: 0.0129\n",
      "Epoch 11/20\n",
      "38/38 [==============================] - 7s 177ms/step - loss: 0.0089\n",
      "Epoch 12/20\n",
      "38/38 [==============================] - 7s 184ms/step - loss: 0.0078\n",
      "Epoch 13/20\n",
      "38/38 [==============================] - 7s 197ms/step - loss: 0.0049\n",
      "Epoch 14/20\n",
      "38/38 [==============================] - 8s 205ms/step - loss: 0.0045\n",
      "Epoch 15/20\n",
      "38/38 [==============================] - 7s 196ms/step - loss: 0.0039\n",
      "Epoch 16/20\n",
      "38/38 [==============================] - 8s 220ms/step - loss: 0.0061\n",
      "Epoch 17/20\n",
      "38/38 [==============================] - 9s 232ms/step - loss: 0.0058\n",
      "Epoch 18/20\n",
      "38/38 [==============================] - 9s 245ms/step - loss: 0.0055\n",
      "Epoch 19/20\n",
      "38/38 [==============================] - 9s 239ms/step - loss: 0.0039\n",
      "Epoch 20/20\n",
      "38/38 [==============================] - 10s 259ms/step - loss: 0.0046\n",
      "[Model] Training Completed. Model saved as saved_models\\11122019-205934-e20.h5\n",
      "Time taken: 0:02:29.020817\n",
      "[Model] Predicting Point-by-Point...\n"
     ]
    },
    {
     "data": {
      "image/png": "[encoded data removed]",
      "text/plain": [
       "<Figure size 432x288 with 1 Axes>"
      ]
     },
     "metadata": {},
     "output_type": "display_data"
    },
    {
     "name": "stdout",
     "output_type": "stream",
     "text": [
      "the mae of test sample is:  0.030537950310216534\n"
     ]
    }
   ],
   "source": [
    "#monthly vol + adj_volume\n",
    "ib.reload(run)\n",
    "run.main()"
   ]
  },
  {
   "cell_type": "code",
   "execution_count": 13,
   "metadata": {},
   "outputs": [
    {
     "name": "stdout",
     "output_type": "stream",
     "text": [
      "[Model] Model Compiled\n",
      "Time taken: 0:00:00.426832\n",
      "[Model] Training Started\n",
      "[Model] 20 epochs, 32 batch size, 38 batches per epoch\n",
      "Epoch 1/20\n",
      "38/38 [==============================] - 8s 217ms/step - loss: 0.0612\n",
      "Epoch 2/20\n",
      "38/38 [==============================] - 10s 252ms/step - loss: 0.0215\n",
      "Epoch 3/20\n",
      "38/38 [==============================] - 9s 245ms/step - loss: 0.0369\n",
      "Epoch 4/20\n",
      "38/38 [==============================] - 9s 234ms/step - loss: 0.0105\n",
      "Epoch 5/20\n",
      "38/38 [==============================] - 9s 234ms/step - loss: 0.0099\n",
      "Epoch 6/20\n",
      "38/38 [==============================] - 9s 244ms/step - loss: 0.0081\n",
      "Epoch 7/20\n",
      "38/38 [==============================] - 9s 249ms/step - loss: 0.0073\n",
      "Epoch 8/20\n",
      "38/38 [==============================] - 11s 288ms/step - loss: 0.0068\n",
      "Epoch 9/20\n",
      "38/38 [==============================] - 11s 293ms/step - loss: 0.0131\n",
      "Epoch 10/20\n",
      "38/38 [==============================] - 11s 289ms/step - loss: 0.0181\n",
      "Epoch 11/20\n",
      "38/38 [==============================] - 11s 291ms/step - loss: 0.0123\n",
      "Epoch 12/20\n",
      "38/38 [==============================] - 11s 295ms/step - loss: 0.0053\n",
      "Epoch 13/20\n",
      "38/38 [==============================] - 12s 307ms/step - loss: 0.0047\n",
      "Epoch 14/20\n",
      "38/38 [==============================] - 11s 282ms/step - loss: 0.0037\n",
      "Epoch 15/20\n",
      "38/38 [==============================] - 11s 281ms/step - loss: 0.0044\n",
      "Epoch 16/20\n",
      "38/38 [==============================] - 11s 279ms/step - loss: 0.0063\n",
      "Epoch 17/20\n",
      "38/38 [==============================] - 11s 281ms/step - loss: 0.0081\n",
      "Epoch 18/20\n",
      "38/38 [==============================] - 11s 290ms/step - loss: 0.0107\n",
      "Epoch 19/20\n",
      "38/38 [==============================] - 11s 293ms/step - loss: 0.0063\n",
      "Epoch 20/20\n",
      "38/38 [==============================] - 11s 284ms/step - loss: 0.0054\n",
      "[Model] Training Completed. Model saved as saved_models\\11122019-210240-e20.h5\n",
      "Time taken: 0:03:29.843438\n",
      "[Model] Predicting Point-by-Point...\n"
     ]
    },
    {
     "data": {
      "image/png": "[encoded data removed]",
      "text/plain": [
       "<Figure size 432x288 with 1 Axes>"
      ]
     },
     "metadata": {},
     "output_type": "display_data"
    },
    {
     "name": "stdout",
     "output_type": "stream",
     "text": [
      "the mae of test sample is:  0.05404464528478394\n"
     ]
    }
   ],
   "source": [
    "#vol+volume+pricetobook\n",
    "ib.reload(run)\n",
    "run.main()"
   ]
  },
  {
   "cell_type": "code",
   "execution_count": 14,
   "metadata": {},
   "outputs": [
    {
     "name": "stdout",
     "output_type": "stream",
     "text": [
      "[Model] Model Compiled\n",
      "Time taken: 0:00:00.439299\n",
      "[Model] Training Started\n",
      "[Model] 20 epochs, 32 batch size, 38 batches per epoch\n",
      "Epoch 1/20\n",
      "38/38 [==============================] - 9s 236ms/step - loss: 0.0851\n",
      "Epoch 2/20\n",
      "38/38 [==============================] - 10s 254ms/step - loss: 0.0313\n",
      "Epoch 3/20\n",
      "38/38 [==============================] - 10s 257ms/step - loss: 0.0199\n",
      "Epoch 4/20\n",
      "38/38 [==============================] - 10s 258ms/step - loss: 0.0268\n",
      "Epoch 5/20\n",
      "38/38 [==============================] - 10s 271ms/step - loss: 0.0109\n",
      "Epoch 6/20\n",
      "38/38 [==============================] - 10s 271ms/step - loss: 0.0185\n",
      "Epoch 7/20\n",
      "38/38 [==============================] - 11s 283ms/step - loss: 0.0133\n",
      "Epoch 8/20\n",
      "38/38 [==============================] - 12s 320ms/step - loss: 0.0122\n",
      "Epoch 9/20\n",
      "38/38 [==============================] - 12s 319ms/step - loss: 0.0096\n",
      "Epoch 10/20\n",
      "38/38 [==============================] - 12s 318ms/step - loss: 0.0170\n",
      "Epoch 11/20\n",
      "38/38 [==============================] - 13s 334ms/step - loss: 0.0090\n",
      "Epoch 12/20\n",
      "38/38 [==============================] - 13s 344ms/step - loss: 0.0064\n",
      "Epoch 13/20\n",
      "38/38 [==============================] - 12s 319ms/step - loss: 0.0050\n",
      "Epoch 14/20\n",
      "38/38 [==============================] - 11s 297ms/step - loss: 0.0062\n",
      "Epoch 15/20\n",
      "38/38 [==============================] - 11s 300ms/step - loss: 0.0047\n",
      "Epoch 16/20\n",
      "38/38 [==============================] - 11s 296ms/step - loss: 0.0062\n",
      "Epoch 17/20\n",
      "38/38 [==============================] - 11s 298ms/step - loss: 0.0050\n",
      "Epoch 18/20\n",
      "38/38 [==============================] - 12s 303ms/step - loss: 0.0048\n",
      "Epoch 19/20\n",
      "38/38 [==============================] - 11s 301ms/step - loss: 0.0032\n",
      "Epoch 20/20\n",
      "38/38 [==============================] - 11s 300ms/step - loss: 0.0033\n",
      "[Model] Training Completed. Model saved as saved_models\\11122019-210644-e20.h5\n",
      "Time taken: 0:03:47.263675\n",
      "[Model] Predicting Point-by-Point...\n"
     ]
    },
    {
     "data": {
      "image/png": "[encoded data removed]",
      "text/plain": [
       "<Figure size 432x288 with 1 Axes>"
      ]
     },
     "metadata": {},
     "output_type": "display_data"
    },
    {
     "name": "stdout",
     "output_type": "stream",
     "text": [
      "the mae of test sample is:  0.028939537869629394\n"
     ]
    }
   ],
   "source": [
    "#all features\n",
    "ib.reload(run)\n",
    "run.main()"
   ]
  },
  {
   "cell_type": "code",
   "execution_count": 5,
   "metadata": {},
   "outputs": [],
   "source": [
    "#baseline garch\n",
    "import warnings\n",
    "warnings.simplefilter('ignore')d\n",
    "\n",
    "%matplotlib inline\n",
    "import seaborn\n",
    "seaborn.set_style('darkgrid')\n",
    "\n",
    "from arch import arch_model\n",
    "\n",
    "seaborn.mpl.rcParams['figure.figsize'] = (10.0, 6.0)\n",
    "seaborn.mpl.rcParams['savefig.dpi'] = 90\n",
    "seaborn.mpl.rcParams['font.family'] = 'sans-serif'\n",
    "seaborn.mpl.rcParams['font.size'] = 14\n"
   ]
  },
  {
   "cell_type": "code",
   "execution_count": 13,
   "metadata": {},
   "outputs": [],
   "source": [
    "import datetime as dt"
   ]
  },
  {
   "cell_type": "code",
   "execution_count": 37,
   "metadata": {},
   "outputs": [
    {
     "data": {
      "text/plain": [
       "nan"
      ]
     },
     "execution_count": 37,
     "metadata": {},
     "output_type": "execute_result"
    }
   ],
   "source": [
    "df_msft_w_na[\"daily_vol_10d\"][9]"
   ]
  },
  {
   "cell_type": "code",
   "execution_count": 34,
   "metadata": {},
   "outputs": [
    {
     "data": {
      "text/html": [
       "<div>\n",
       "<style scoped>\n",
       "    .dataframe tbody tr th:only-of-type {\n",
       "        vertical-align: middle;\n",
       "    }\n",
       "\n",
       "    .dataframe tbody tr th {\n",
       "        vertical-align: top;\n",
       "    }\n",
       "\n",
       "    .dataframe thead th {\n",
       "        text-align: right;\n",
       "    }\n",
       "</style>\n",
       "<table border=\"1\" class=\"dataframe\">\n",
       "  <thead>\n",
       "    <tr style=\"text-align: right;\">\n",
       "      <th></th>\n",
       "      <th>level_0</th>\n",
       "      <th>index</th>\n",
       "      <th>date</th>\n",
       "      <th>adj_close_price</th>\n",
       "      <th>adj_volume</th>\n",
       "      <th>pricetobook</th>\n",
       "      <th>netdebttoebitda</th>\n",
       "      <th>ltdebttoebitda</th>\n",
       "      <th>adjdilutedeps</th>\n",
       "      <th>dividend</th>\n",
       "      <th>daily_return</th>\n",
       "      <th>weekly_return</th>\n",
       "      <th>monthly_return</th>\n",
       "      <th>daily_vol_10d</th>\n",
       "      <th>weekly_vol_30d</th>\n",
       "      <th>monthly_vol_90d</th>\n",
       "    </tr>\n",
       "  </thead>\n",
       "  <tbody>\n",
       "    <tr>\n",
       "      <th>0</th>\n",
       "      <td>63</td>\n",
       "      <td>1634</td>\n",
       "      <td>2013-04-01</td>\n",
       "      <td>24.467667</td>\n",
       "      <td>29203122.0</td>\n",
       "      <td>2.6893</td>\n",
       "      <td>-2.8782</td>\n",
       "      <td>0.4811</td>\n",
       "      <td>1.95</td>\n",
       "      <td>0.23</td>\n",
       "      <td>NaN</td>\n",
       "      <td>NaN</td>\n",
       "      <td>NaN</td>\n",
       "      <td>NaN</td>\n",
       "      <td>NaN</td>\n",
       "      <td>NaN</td>\n",
       "    </tr>\n",
       "    <tr>\n",
       "      <th>1</th>\n",
       "      <td>64</td>\n",
       "      <td>1633</td>\n",
       "      <td>2013-04-02</td>\n",
       "      <td>24.630158</td>\n",
       "      <td>28460384.0</td>\n",
       "      <td>2.7072</td>\n",
       "      <td>-2.8782</td>\n",
       "      <td>0.4811</td>\n",
       "      <td>1.95</td>\n",
       "      <td>0.23</td>\n",
       "      <td>0.006619</td>\n",
       "      <td>NaN</td>\n",
       "      <td>NaN</td>\n",
       "      <td>NaN</td>\n",
       "      <td>NaN</td>\n",
       "      <td>NaN</td>\n",
       "    </tr>\n",
       "    <tr>\n",
       "      <th>2</th>\n",
       "      <td>65</td>\n",
       "      <td>1632</td>\n",
       "      <td>2013-04-03</td>\n",
       "      <td>24.424907</td>\n",
       "      <td>35064468.0</td>\n",
       "      <td>2.6846</td>\n",
       "      <td>-2.8782</td>\n",
       "      <td>0.4811</td>\n",
       "      <td>1.95</td>\n",
       "      <td>0.23</td>\n",
       "      <td>-0.008368</td>\n",
       "      <td>NaN</td>\n",
       "      <td>NaN</td>\n",
       "      <td>NaN</td>\n",
       "      <td>NaN</td>\n",
       "      <td>NaN</td>\n",
       "    </tr>\n",
       "    <tr>\n",
       "      <th>3</th>\n",
       "      <td>66</td>\n",
       "      <td>1631</td>\n",
       "      <td>2013-04-04</td>\n",
       "      <td>24.454839</td>\n",
       "      <td>45267601.0</td>\n",
       "      <td>2.6879</td>\n",
       "      <td>-2.8782</td>\n",
       "      <td>0.4811</td>\n",
       "      <td>1.95</td>\n",
       "      <td>0.23</td>\n",
       "      <td>0.001225</td>\n",
       "      <td>NaN</td>\n",
       "      <td>NaN</td>\n",
       "      <td>NaN</td>\n",
       "      <td>NaN</td>\n",
       "      <td>NaN</td>\n",
       "    </tr>\n",
       "    <tr>\n",
       "      <th>4</th>\n",
       "      <td>67</td>\n",
       "      <td>1630</td>\n",
       "      <td>2013-04-05</td>\n",
       "      <td>24.544637</td>\n",
       "      <td>50928776.0</td>\n",
       "      <td>2.6978</td>\n",
       "      <td>-2.8782</td>\n",
       "      <td>0.4811</td>\n",
       "      <td>1.95</td>\n",
       "      <td>0.23</td>\n",
       "      <td>0.003665</td>\n",
       "      <td>NaN</td>\n",
       "      <td>NaN</td>\n",
       "      <td>NaN</td>\n",
       "      <td>NaN</td>\n",
       "      <td>NaN</td>\n",
       "    </tr>\n",
       "    <tr>\n",
       "      <th>...</th>\n",
       "      <td>...</td>\n",
       "      <td>...</td>\n",
       "      <td>...</td>\n",
       "      <td>...</td>\n",
       "      <td>...</td>\n",
       "      <td>...</td>\n",
       "      <td>...</td>\n",
       "      <td>...</td>\n",
       "      <td>...</td>\n",
       "      <td>...</td>\n",
       "      <td>...</td>\n",
       "      <td>...</td>\n",
       "      <td>...</td>\n",
       "      <td>...</td>\n",
       "      <td>...</td>\n",
       "      <td>...</td>\n",
       "    </tr>\n",
       "    <tr>\n",
       "      <th>1630</th>\n",
       "      <td>1693</td>\n",
       "      <td>4</td>\n",
       "      <td>2019-09-17</td>\n",
       "      <td>136.924085</td>\n",
       "      <td>17976285.0</td>\n",
       "      <td>10.3740</td>\n",
       "      <td>-1.1611</td>\n",
       "      <td>1.2039</td>\n",
       "      <td>5.06</td>\n",
       "      <td>0.46</td>\n",
       "      <td>0.007745</td>\n",
       "      <td>-0.000946</td>\n",
       "      <td>0.023172</td>\n",
       "      <td>0.010198</td>\n",
       "      <td>0.019840</td>\n",
       "      <td>0.039727</td>\n",
       "    </tr>\n",
       "    <tr>\n",
       "      <th>1631</th>\n",
       "      <td>1694</td>\n",
       "      <td>3</td>\n",
       "      <td>2019-09-18</td>\n",
       "      <td>138.050253</td>\n",
       "      <td>24473386.0</td>\n",
       "      <td>10.4593</td>\n",
       "      <td>-1.1611</td>\n",
       "      <td>1.2039</td>\n",
       "      <td>5.06</td>\n",
       "      <td>0.46</td>\n",
       "      <td>0.008191</td>\n",
       "      <td>0.017772</td>\n",
       "      <td>0.026992</td>\n",
       "      <td>0.009853</td>\n",
       "      <td>0.018114</td>\n",
       "      <td>0.039507</td>\n",
       "    </tr>\n",
       "    <tr>\n",
       "      <th>1632</th>\n",
       "      <td>1695</td>\n",
       "      <td>2</td>\n",
       "      <td>2019-09-19</td>\n",
       "      <td>140.591606</td>\n",
       "      <td>36095413.0</td>\n",
       "      <td>10.6519</td>\n",
       "      <td>-1.1611</td>\n",
       "      <td>1.2039</td>\n",
       "      <td>5.06</td>\n",
       "      <td>0.46</td>\n",
       "      <td>0.018242</td>\n",
       "      <td>0.035719</td>\n",
       "      <td>0.018898</td>\n",
       "      <td>0.010008</td>\n",
       "      <td>0.017611</td>\n",
       "      <td>0.039541</td>\n",
       "    </tr>\n",
       "    <tr>\n",
       "      <th>1633</th>\n",
       "      <td>1696</td>\n",
       "      <td>1</td>\n",
       "      <td>2019-09-20</td>\n",
       "      <td>138.967133</td>\n",
       "      <td>40040766.0</td>\n",
       "      <td>10.5288</td>\n",
       "      <td>-1.1611</td>\n",
       "      <td>1.2039</td>\n",
       "      <td>5.06</td>\n",
       "      <td>0.46</td>\n",
       "      <td>-0.011622</td>\n",
       "      <td>0.013865</td>\n",
       "      <td>0.015809</td>\n",
       "      <td>0.010514</td>\n",
       "      <td>0.017486</td>\n",
       "      <td>0.039571</td>\n",
       "    </tr>\n",
       "    <tr>\n",
       "      <th>1634</th>\n",
       "      <td>1697</td>\n",
       "      <td>0</td>\n",
       "      <td>2019-09-23</td>\n",
       "      <td>138.668151</td>\n",
       "      <td>17408374.0</td>\n",
       "      <td>10.5061</td>\n",
       "      <td>-1.1611</td>\n",
       "      <td>1.2039</td>\n",
       "      <td>5.06</td>\n",
       "      <td>0.46</td>\n",
       "      <td>-0.002154</td>\n",
       "      <td>0.013167</td>\n",
       "      <td>0.027695</td>\n",
       "      <td>0.009752</td>\n",
       "      <td>0.017516</td>\n",
       "      <td>0.039525</td>\n",
       "    </tr>\n",
       "  </tbody>\n",
       "</table>\n",
       "<p>1635 rows × 16 columns</p>\n",
       "</div>"
      ],
      "text/plain": [
       "      level_0  index        date  adj_close_price  adj_volume  pricetobook  \\\n",
       "0          63   1634  2013-04-01        24.467667  29203122.0       2.6893   \n",
       "1          64   1633  2013-04-02        24.630158  28460384.0       2.7072   \n",
       "2          65   1632  2013-04-03        24.424907  35064468.0       2.6846   \n",
       "3          66   1631  2013-04-04        24.454839  45267601.0       2.6879   \n",
       "4          67   1630  2013-04-05        24.544637  50928776.0       2.6978   \n",
       "...       ...    ...         ...              ...         ...          ...   \n",
       "1630     1693      4  2019-09-17       136.924085  17976285.0      10.3740   \n",
       "1631     1694      3  2019-09-18       138.050253  24473386.0      10.4593   \n",
       "1632     1695      2  2019-09-19       140.591606  36095413.0      10.6519   \n",
       "1633     1696      1  2019-09-20       138.967133  40040766.0      10.5288   \n",
       "1634     1697      0  2019-09-23       138.668151  17408374.0      10.5061   \n",
       "\n",
       "      netdebttoebitda  ltdebttoebitda  adjdilutedeps  dividend  daily_return  \\\n",
       "0             -2.8782          0.4811           1.95      0.23           NaN   \n",
       "1             -2.8782          0.4811           1.95      0.23      0.006619   \n",
       "2             -2.8782          0.4811           1.95      0.23     -0.008368   \n",
       "3             -2.8782          0.4811           1.95      0.23      0.001225   \n",
       "4             -2.8782          0.4811           1.95      0.23      0.003665   \n",
       "...               ...             ...            ...       ...           ...   \n",
       "1630          -1.1611          1.2039           5.06      0.46      0.007745   \n",
       "1631          -1.1611          1.2039           5.06      0.46      0.008191   \n",
       "1632          -1.1611          1.2039           5.06      0.46      0.018242   \n",
       "1633          -1.1611          1.2039           5.06      0.46     -0.011622   \n",
       "1634          -1.1611          1.2039           5.06      0.46     -0.002154   \n",
       "\n",
       "      weekly_return  monthly_return  daily_vol_10d  weekly_vol_30d  \\\n",
       "0               NaN             NaN            NaN             NaN   \n",
       "1               NaN             NaN            NaN             NaN   \n",
       "2               NaN             NaN            NaN             NaN   \n",
       "3               NaN             NaN            NaN             NaN   \n",
       "4               NaN             NaN            NaN             NaN   \n",
       "...             ...             ...            ...             ...   \n",
       "1630      -0.000946        0.023172       0.010198        0.019840   \n",
       "1631       0.017772        0.026992       0.009853        0.018114   \n",
       "1632       0.035719        0.018898       0.010008        0.017611   \n",
       "1633       0.013865        0.015809       0.010514        0.017486   \n",
       "1634       0.013167        0.027695       0.009752        0.017516   \n",
       "\n",
       "      monthly_vol_90d  \n",
       "0                 NaN  \n",
       "1                 NaN  \n",
       "2                 NaN  \n",
       "3                 NaN  \n",
       "4                 NaN  \n",
       "...               ...  \n",
       "1630         0.039727  \n",
       "1631         0.039507  \n",
       "1632         0.039541  \n",
       "1633         0.039571  \n",
       "1634         0.039525  \n",
       "\n",
       "[1635 rows x 16 columns]"
      ]
     },
     "execution_count": 34,
     "metadata": {},
     "output_type": "execute_result"
    }
   ],
   "source": [
    "df_msft_w_na"
   ]
  },
  {
   "cell_type": "code",
   "execution_count": 12,
   "metadata": {},
   "outputs": [
    {
     "data": {
      "text/html": [
       "<div>\n",
       "<style scoped>\n",
       "    .dataframe tbody tr th:only-of-type {\n",
       "        vertical-align: middle;\n",
       "    }\n",
       "\n",
       "    .dataframe tbody tr th {\n",
       "        vertical-align: top;\n",
       "    }\n",
       "\n",
       "    .dataframe thead th {\n",
       "        text-align: right;\n",
       "    }\n",
       "</style>\n",
       "<table border=\"1\" class=\"dataframe\">\n",
       "  <thead>\n",
       "    <tr style=\"text-align: right;\">\n",
       "      <th></th>\n",
       "      <th>level_0</th>\n",
       "      <th>index</th>\n",
       "      <th>date</th>\n",
       "      <th>adj_close_price</th>\n",
       "      <th>adj_volume</th>\n",
       "      <th>pricetobook</th>\n",
       "      <th>netdebttoebitda</th>\n",
       "      <th>ltdebttoebitda</th>\n",
       "      <th>adjdilutedeps</th>\n",
       "      <th>dividend</th>\n",
       "      <th>daily_return</th>\n",
       "      <th>weekly_return</th>\n",
       "      <th>monthly_return</th>\n",
       "      <th>daily_vol_10d</th>\n",
       "      <th>weekly_vol_30d</th>\n",
       "      <th>monthly_vol_90d</th>\n",
       "    </tr>\n",
       "  </thead>\n",
       "  <tbody>\n",
       "    <tr>\n",
       "      <th>118</th>\n",
       "      <td>181</td>\n",
       "      <td>1516</td>\n",
       "      <td>2013-09-16</td>\n",
       "      <td>28.447629</td>\n",
       "      <td>55017879.0</td>\n",
       "      <td>3.0522</td>\n",
       "      <td>-2.3458</td>\n",
       "      <td>0.4090</td>\n",
       "      <td>2.58</td>\n",
       "      <td>0.23</td>\n",
       "      <td>-0.006957</td>\n",
       "      <td>0.051581</td>\n",
       "      <td>0.041164</td>\n",
       "      <td>0.020204</td>\n",
       "      <td>0.047429</td>\n",
       "      <td>0.089872</td>\n",
       "    </tr>\n",
       "    <tr>\n",
       "      <th>119</th>\n",
       "      <td>182</td>\n",
       "      <td>1515</td>\n",
       "      <td>2013-09-17</td>\n",
       "      <td>28.559508</td>\n",
       "      <td>84716461.0</td>\n",
       "      <td>3.0642</td>\n",
       "      <td>-2.3458</td>\n",
       "      <td>0.4090</td>\n",
       "      <td>2.58</td>\n",
       "      <td>0.23</td>\n",
       "      <td>0.003925</td>\n",
       "      <td>0.039488</td>\n",
       "      <td>0.048882</td>\n",
       "      <td>0.012683</td>\n",
       "      <td>0.047802</td>\n",
       "      <td>0.089141</td>\n",
       "    </tr>\n",
       "    <tr>\n",
       "      <th>120</th>\n",
       "      <td>183</td>\n",
       "      <td>1514</td>\n",
       "      <td>2013-09-18</td>\n",
       "      <td>28.897747</td>\n",
       "      <td>64103344.0</td>\n",
       "      <td>3.1005</td>\n",
       "      <td>-2.3458</td>\n",
       "      <td>0.4090</td>\n",
       "      <td>2.58</td>\n",
       "      <td>0.23</td>\n",
       "      <td>0.011774</td>\n",
       "      <td>0.028308</td>\n",
       "      <td>0.045477</td>\n",
       "      <td>0.009341</td>\n",
       "      <td>0.047932</td>\n",
       "      <td>0.088328</td>\n",
       "    </tr>\n",
       "    <tr>\n",
       "      <th>121</th>\n",
       "      <td>184</td>\n",
       "      <td>1513</td>\n",
       "      <td>2013-09-19</td>\n",
       "      <td>29.175276</td>\n",
       "      <td>42026553.0</td>\n",
       "      <td>3.1303</td>\n",
       "      <td>-2.3458</td>\n",
       "      <td>0.4090</td>\n",
       "      <td>2.58</td>\n",
       "      <td>0.23</td>\n",
       "      <td>0.009558</td>\n",
       "      <td>0.027118</td>\n",
       "      <td>0.029569</td>\n",
       "      <td>0.009183</td>\n",
       "      <td>0.048048</td>\n",
       "      <td>0.086938</td>\n",
       "    </tr>\n",
       "    <tr>\n",
       "      <th>122</th>\n",
       "      <td>185</td>\n",
       "      <td>1512</td>\n",
       "      <td>2013-09-20</td>\n",
       "      <td>28.438956</td>\n",
       "      <td>102904859.0</td>\n",
       "      <td>3.0513</td>\n",
       "      <td>-2.3458</td>\n",
       "      <td>0.4090</td>\n",
       "      <td>2.58</td>\n",
       "      <td>0.23</td>\n",
       "      <td>-0.025562</td>\n",
       "      <td>0.003085</td>\n",
       "      <td>0.009801</td>\n",
       "      <td>0.013714</td>\n",
       "      <td>0.047859</td>\n",
       "      <td>0.085327</td>\n",
       "    </tr>\n",
       "    <tr>\n",
       "      <th>...</th>\n",
       "      <td>...</td>\n",
       "      <td>...</td>\n",
       "      <td>...</td>\n",
       "      <td>...</td>\n",
       "      <td>...</td>\n",
       "      <td>...</td>\n",
       "      <td>...</td>\n",
       "      <td>...</td>\n",
       "      <td>...</td>\n",
       "      <td>...</td>\n",
       "      <td>...</td>\n",
       "      <td>...</td>\n",
       "      <td>...</td>\n",
       "      <td>...</td>\n",
       "      <td>...</td>\n",
       "      <td>...</td>\n",
       "    </tr>\n",
       "    <tr>\n",
       "      <th>1630</th>\n",
       "      <td>1693</td>\n",
       "      <td>4</td>\n",
       "      <td>2019-09-17</td>\n",
       "      <td>136.924085</td>\n",
       "      <td>17976285.0</td>\n",
       "      <td>10.3740</td>\n",
       "      <td>-1.1611</td>\n",
       "      <td>1.2039</td>\n",
       "      <td>5.06</td>\n",
       "      <td>0.46</td>\n",
       "      <td>0.007745</td>\n",
       "      <td>-0.000946</td>\n",
       "      <td>0.023172</td>\n",
       "      <td>0.010198</td>\n",
       "      <td>0.019840</td>\n",
       "      <td>0.039727</td>\n",
       "    </tr>\n",
       "    <tr>\n",
       "      <th>1631</th>\n",
       "      <td>1694</td>\n",
       "      <td>3</td>\n",
       "      <td>2019-09-18</td>\n",
       "      <td>138.050253</td>\n",
       "      <td>24473386.0</td>\n",
       "      <td>10.4593</td>\n",
       "      <td>-1.1611</td>\n",
       "      <td>1.2039</td>\n",
       "      <td>5.06</td>\n",
       "      <td>0.46</td>\n",
       "      <td>0.008191</td>\n",
       "      <td>0.017772</td>\n",
       "      <td>0.026992</td>\n",
       "      <td>0.009853</td>\n",
       "      <td>0.018114</td>\n",
       "      <td>0.039507</td>\n",
       "    </tr>\n",
       "    <tr>\n",
       "      <th>1632</th>\n",
       "      <td>1695</td>\n",
       "      <td>2</td>\n",
       "      <td>2019-09-19</td>\n",
       "      <td>140.591606</td>\n",
       "      <td>36095413.0</td>\n",
       "      <td>10.6519</td>\n",
       "      <td>-1.1611</td>\n",
       "      <td>1.2039</td>\n",
       "      <td>5.06</td>\n",
       "      <td>0.46</td>\n",
       "      <td>0.018242</td>\n",
       "      <td>0.035719</td>\n",
       "      <td>0.018898</td>\n",
       "      <td>0.010008</td>\n",
       "      <td>0.017611</td>\n",
       "      <td>0.039541</td>\n",
       "    </tr>\n",
       "    <tr>\n",
       "      <th>1633</th>\n",
       "      <td>1696</td>\n",
       "      <td>1</td>\n",
       "      <td>2019-09-20</td>\n",
       "      <td>138.967133</td>\n",
       "      <td>40040766.0</td>\n",
       "      <td>10.5288</td>\n",
       "      <td>-1.1611</td>\n",
       "      <td>1.2039</td>\n",
       "      <td>5.06</td>\n",
       "      <td>0.46</td>\n",
       "      <td>-0.011622</td>\n",
       "      <td>0.013865</td>\n",
       "      <td>0.015809</td>\n",
       "      <td>0.010514</td>\n",
       "      <td>0.017486</td>\n",
       "      <td>0.039571</td>\n",
       "    </tr>\n",
       "    <tr>\n",
       "      <th>1634</th>\n",
       "      <td>1697</td>\n",
       "      <td>0</td>\n",
       "      <td>2019-09-23</td>\n",
       "      <td>138.668151</td>\n",
       "      <td>17408374.0</td>\n",
       "      <td>10.5061</td>\n",
       "      <td>-1.1611</td>\n",
       "      <td>1.2039</td>\n",
       "      <td>5.06</td>\n",
       "      <td>0.46</td>\n",
       "      <td>-0.002154</td>\n",
       "      <td>0.013167</td>\n",
       "      <td>0.027695</td>\n",
       "      <td>0.009752</td>\n",
       "      <td>0.017516</td>\n",
       "      <td>0.039525</td>\n",
       "    </tr>\n",
       "  </tbody>\n",
       "</table>\n",
       "<p>1517 rows × 16 columns</p>\n",
       "</div>"
      ],
      "text/plain": [
       "      level_0  index        date  adj_close_price   adj_volume  pricetobook  \\\n",
       "118       181   1516  2013-09-16        28.447629   55017879.0       3.0522   \n",
       "119       182   1515  2013-09-17        28.559508   84716461.0       3.0642   \n",
       "120       183   1514  2013-09-18        28.897747   64103344.0       3.1005   \n",
       "121       184   1513  2013-09-19        29.175276   42026553.0       3.1303   \n",
       "122       185   1512  2013-09-20        28.438956  102904859.0       3.0513   \n",
       "...       ...    ...         ...              ...          ...          ...   \n",
       "1630     1693      4  2019-09-17       136.924085   17976285.0      10.3740   \n",
       "1631     1694      3  2019-09-18       138.050253   24473386.0      10.4593   \n",
       "1632     1695      2  2019-09-19       140.591606   36095413.0      10.6519   \n",
       "1633     1696      1  2019-09-20       138.967133   40040766.0      10.5288   \n",
       "1634     1697      0  2019-09-23       138.668151   17408374.0      10.5061   \n",
       "\n",
       "      netdebttoebitda  ltdebttoebitda  adjdilutedeps  dividend  daily_return  \\\n",
       "118           -2.3458          0.4090           2.58      0.23     -0.006957   \n",
       "119           -2.3458          0.4090           2.58      0.23      0.003925   \n",
       "120           -2.3458          0.4090           2.58      0.23      0.011774   \n",
       "121           -2.3458          0.4090           2.58      0.23      0.009558   \n",
       "122           -2.3458          0.4090           2.58      0.23     -0.025562   \n",
       "...               ...             ...            ...       ...           ...   \n",
       "1630          -1.1611          1.2039           5.06      0.46      0.007745   \n",
       "1631          -1.1611          1.2039           5.06      0.46      0.008191   \n",
       "1632          -1.1611          1.2039           5.06      0.46      0.018242   \n",
       "1633          -1.1611          1.2039           5.06      0.46     -0.011622   \n",
       "1634          -1.1611          1.2039           5.06      0.46     -0.002154   \n",
       "\n",
       "      weekly_return  monthly_return  daily_vol_10d  weekly_vol_30d  \\\n",
       "118        0.051581        0.041164       0.020204        0.047429   \n",
       "119        0.039488        0.048882       0.012683        0.047802   \n",
       "120        0.028308        0.045477       0.009341        0.047932   \n",
       "121        0.027118        0.029569       0.009183        0.048048   \n",
       "122        0.003085        0.009801       0.013714        0.047859   \n",
       "...             ...             ...            ...             ...   \n",
       "1630      -0.000946        0.023172       0.010198        0.019840   \n",
       "1631       0.017772        0.026992       0.009853        0.018114   \n",
       "1632       0.035719        0.018898       0.010008        0.017611   \n",
       "1633       0.013865        0.015809       0.010514        0.017486   \n",
       "1634       0.013167        0.027695       0.009752        0.017516   \n",
       "\n",
       "      monthly_vol_90d  \n",
       "118          0.089872  \n",
       "119          0.089141  \n",
       "120          0.088328  \n",
       "121          0.086938  \n",
       "122          0.085327  \n",
       "...               ...  \n",
       "1630         0.039727  \n",
       "1631         0.039507  \n",
       "1632         0.039541  \n",
       "1633         0.039571  \n",
       "1634         0.039525  \n",
       "\n",
       "[1517 rows x 16 columns]"
      ]
     },
     "execution_count": 12,
     "metadata": {},
     "output_type": "execute_result"
    }
   ],
   "source": [
    "df_msft_final"
   ]
  },
  {
   "cell_type": "code",
   "execution_count": 100,
   "metadata": {},
   "outputs": [
    {
     "data": {
      "text/plain": [
       "118     0.020204\n",
       "119     0.012683\n",
       "120     0.009341\n",
       "121     0.009183\n",
       "122     0.013714\n",
       "          ...   \n",
       "1630    0.010198\n",
       "1631    0.009853\n",
       "1632    0.010008\n",
       "1633    0.010514\n",
       "1634    0.009752\n",
       "Name: daily_vol_10d, Length: 1517, dtype: float64"
      ]
     },
     "execution_count": 100,
     "metadata": {},
     "output_type": "execute_result"
    }
   ],
   "source": [
    "#take the prev day volatility\n",
    "vol_10d = df_msft_final[\"daily_vol_10d\"]\n",
    "vol_10d"
   ]
  },
  {
   "cell_type": "code",
   "execution_count": 101,
   "metadata": {},
   "outputs": [],
   "source": [
    "#split train and test by 85/15 as what's been done in the neural networks\n",
    "index_mask = math.floor(0.85 * len(vol_10d))\n",
    "\n",
    "y_real = vol_10d[index_mask:-1]\n",
    "#take prev day\n",
    "y_pred_naive = vol_10d[index_mask-1:-2]"
   ]
  },
  {
   "cell_type": "code",
   "execution_count": 102,
   "metadata": {},
   "outputs": [
    {
     "data": {
      "text/plain": [
       "227"
      ]
     },
     "execution_count": 102,
     "metadata": {},
     "output_type": "execute_result"
    }
   ],
   "source": [
    "len(y_real)"
   ]
  },
  {
   "cell_type": "code",
   "execution_count": 103,
   "metadata": {},
   "outputs": [
    {
     "data": {
      "text/plain": [
       "227"
      ]
     },
     "execution_count": 103,
     "metadata": {},
     "output_type": "execute_result"
    }
   ],
   "source": [
    "len(y_pred_naive)"
   ]
  },
  {
   "cell_type": "code",
   "execution_count": 104,
   "metadata": {},
   "outputs": [],
   "source": [
    "#mean absolute error\n",
    "from sklearn.metrics import mean_absolute_error\n",
    "mae_naive = mean_absolute_error(y_real,y_pred_naive)"
   ]
  },
  {
   "cell_type": "code",
   "execution_count": 105,
   "metadata": {},
   "outputs": [
    {
     "data": {
      "text/plain": [
       "0.0012655148521214057"
      ]
     },
     "execution_count": 105,
     "metadata": {},
     "output_type": "execute_result"
    }
   ],
   "source": [
    "mae_naive"
   ]
  },
  {
   "cell_type": "code",
   "execution_count": null,
   "metadata": {},
   "outputs": [],
   "source": [
    "###GARCH---------------"
   ]
  },
  {
   "cell_type": "code",
   "execution_count": 44,
   "metadata": {},
   "outputs": [],
   "source": [
    "daily_return = df_msft_w_na[\"daily_return\"].dropna()"
   ]
  },
  {
   "cell_type": "code",
   "execution_count": 45,
   "metadata": {},
   "outputs": [
    {
     "data": {
      "text/plain": [
       "1634"
      ]
     },
     "execution_count": 45,
     "metadata": {},
     "output_type": "execute_result"
    }
   ],
   "source": [
    "len(daily_return)"
   ]
  },
  {
   "cell_type": "code",
   "execution_count": 46,
   "metadata": {},
   "outputs": [],
   "source": [
    "#split train and test by 85/15 in temporal sequence\n",
    "index_mask = math.floor(0.85 * len(ret_10d))\n",
    "\n",
    "ret_in_sample = daily_return[:index_mask]\n",
    "ret_out_sample = daily_return[index_mask:]\n"
   ]
  },
  {
   "cell_type": "code",
   "execution_count": 47,
   "metadata": {},
   "outputs": [
    {
     "data": {
      "text/plain": [
       "1634"
      ]
     },
     "execution_count": 47,
     "metadata": {},
     "output_type": "execute_result"
    }
   ],
   "source": [
    "len(ret_in_sample)+len(ret_out_sample)"
   ]
  },
  {
   "cell_type": "code",
   "execution_count": 48,
   "metadata": {},
   "outputs": [
    {
     "data": {
      "text/plain": [
       "0.01172516675444798"
      ]
     },
     "execution_count": 48,
     "metadata": {},
     "output_type": "execute_result"
    }
   ],
   "source": [
    "ret_in_sample.iloc[-1]"
   ]
  },
  {
   "cell_type": "code",
   "execution_count": 49,
   "metadata": {},
   "outputs": [
    {
     "data": {
      "text/plain": [
       "0.00995645894875025"
      ]
     },
     "execution_count": 49,
     "metadata": {},
     "output_type": "execute_result"
    }
   ],
   "source": [
    "ret_out_sample.iloc[0]"
   ]
  },
  {
   "cell_type": "code",
   "execution_count": 96,
   "metadata": {},
   "outputs": [
    {
     "name": "stdout",
     "output_type": "stream",
     "text": [
      "Optimization terminated successfully.    (Exit mode 0)\n",
      "            Current function value: -3648.6356003615692\n",
      "            Iterations: 3\n",
      "            Function evaluations: 29\n",
      "            Gradient evaluations: 2\n"
     ]
    }
   ],
   "source": [
    "#GARCH(p=9,q=9) on daily return (P is more important)\n",
    "model_vol_10d = arch_model(ret_in_sample, vol='Garch', p=1, q=2, dist='Normal')\n",
    "res = model_vol_10d.fit(update_freq=5)"
   ]
  },
  {
   "cell_type": "code",
   "execution_count": 97,
   "metadata": {},
   "outputs": [
    {
     "name": "stdout",
     "output_type": "stream",
     "text": [
      "                     Constant Mean - GARCH Model Results                      \n",
      "==============================================================================\n",
      "Dep. Variable:           daily_return   R-squared:                      -0.000\n",
      "Mean Model:             Constant Mean   Adj. R-squared:                 -0.000\n",
      "Vol Model:                      GARCH   Log-Likelihood:                3648.64\n",
      "Distribution:                  Normal   AIC:                          -7287.27\n",
      "Method:            Maximum Likelihood   BIC:                          -7261.46\n",
      "                                        No. Observations:                 1289\n",
      "Date:                Thu, Dec 12 2019   Df Residuals:                     1284\n",
      "Time:                        20:12:04   Df Model:                            5\n",
      "                                 Mean Model                                 \n",
      "============================================================================\n",
      "                 coef    std err          t      P>|t|      95.0% Conf. Int.\n",
      "----------------------------------------------------------------------------\n",
      "mu         1.2190e-03  4.045e-04      3.013  2.583e-03 [4.261e-04,2.012e-03]\n",
      "                              Volatility Model                              \n",
      "============================================================================\n",
      "                 coef    std err          t      P>|t|      95.0% Conf. Int.\n",
      "----------------------------------------------------------------------------\n",
      "omega      6.4322e-05  8.453e-06      7.609  2.759e-14 [4.775e-05,8.089e-05]\n",
      "alpha[1]       0.2000  9.277e-02      2.156  3.110e-02   [1.817e-02,  0.382]\n",
      "beta[1]        0.2500      0.125      1.992  4.633e-02   [4.068e-03,  0.496]\n",
      "beta[2]        0.2500      0.149      1.678  9.339e-02  [-4.204e-02,  0.542]\n",
      "============================================================================\n",
      "\n",
      "Covariance estimator: robust\n"
     ]
    }
   ],
   "source": [
    "print(res.summary())"
   ]
  },
  {
   "cell_type": "code",
   "execution_count": 99,
   "metadata": {},
   "outputs": [
    {
     "data": {
      "text/plain": [
       "mu          0.001219\n",
       "omega       0.000064\n",
       "alpha[1]    0.200000\n",
       "beta[1]     0.250000\n",
       "beta[2]     0.250000\n",
       "Name: params, dtype: float64"
      ]
     },
     "execution_count": 99,
     "metadata": {},
     "output_type": "execute_result"
    }
   ],
   "source": [
    "res.params"
   ]
  },
  {
   "cell_type": "code",
   "execution_count": null,
   "metadata": {},
   "outputs": [],
   "source": []
  }
 ],
 "metadata": {
  "kernelspec": {
   "display_name": "venv",
   "language": "python",
   "name": "venv"
  },
  "language_info": {
   "codemirror_mode": {
    "name": "ipython",
    "version": 3
   },
   "file_extension": ".py",
   "mimetype": "text/x-python",
   "name": "python",
   "nbconvert_exporter": "python",
   "pygments_lexer": "ipython3",
   "version": "3.7.3"
  }
 },
 "nbformat": 4,
 "nbformat_minor": 2
}
