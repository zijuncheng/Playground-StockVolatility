{
 "cells": [
  {
   "cell_type": "code",
   "execution_count": 1,
   "metadata": {},
   "outputs": [],
   "source": [
    "#use the intrinio api python wrapper to gather the data\n",
    "from __future__ import print_function\n",
    "import time\n",
    "import intrinio_sdk \n",
    "from intrinio_sdk.rest import ApiException\n",
    "from pprint import pprint\n",
    "import pandas as pd\n",
    "import numpy as np\n",
    "import mysql.connector\n",
    "import math\n",
    "import datetime as dt\n",
    "import sys\n",
    "import importlib as ib\n",
    "import GetData as gd"
   ]
  },
  {
   "cell_type": "code",
   "execution_count": 2,
   "metadata": {},
   "outputs": [],
   "source": [
    "#save and load function\n",
    "import pickle\n",
    "def save_obj(obj, name ):\n",
    "    with open('./'+ name + '.pkl', 'wb') as f:\n",
    "        pickle.dump(obj, f, pickle.HIGHEST_PROTOCOL)\n",
    "\n",
    "def load_obj(name ):\n",
    "    with open('./' + name + '.pkl', 'rb') as f:\n",
    "        return pickle.load(f)"
   ]
  },
  {
   "cell_type": "code",
   "execution_count": null,
   "metadata": {},
   "outputs": [],
   "source": [
    "#variable to use\n",
    "\n",
    "#netdebttoebitda\n",
    "#ltdebttoebitda\n",
    "#adj_close\n",
    "#pricetobook\n",
    "#adj_volume\n",
    "#adjdilutedeps\n",
    "#dividend"
   ]
  },
  {
   "cell_type": "code",
   "execution_count": null,
   "metadata": {},
   "outputs": [],
   "source": [
    "#create a py script to extract all the data needed, save the data in a DataFrame and export them in pkl\n",
    "#take the price by a 3-month batch\n",
    "#target is get 6 years of data\n",
    "#5 year window -> monthly vol\n",
    "#3 year window -> weekly vol\n",
    "#1 year window -> daily vol"
   ]
  },
  {
   "cell_type": "code",
   "execution_count": 3,
   "metadata": {},
   "outputs": [],
   "source": [
    "start_date_test = '2000-01-01' # date | Get historical date on or before this date (optional)\n",
    "end_date_test = '2019-07-31'\n",
    "ticker_test = \"MSFT\"\n",
    "tags = ['netdebttoebitda','ltdebttoebitda','adj_close_price','pricetobook','adj_volume','adjdilutedeps','dividend']"
   ]
  },
  {
   "cell_type": "code",
   "execution_count": 4,
   "metadata": {},
   "outputs": [
    {
     "data": {
      "text/plain": [
       "<module 'GetData' from 'C:\\\\Users\\\\Zijun\\\\Documents\\\\Projects\\\\Volatility Prediction\\\\GetData.py'>"
      ]
     },
     "execution_count": 4,
     "metadata": {},
     "output_type": "execute_result"
    }
   ],
   "source": [
    "#reload after changing the script\n",
    "ib.reload(gd)"
   ]
  },
  {
   "cell_type": "code",
   "execution_count": 5,
   "metadata": {},
   "outputs": [],
   "source": [
    "result_test = gd.get_data(start_date_test,end_date_test,tags,ticker_test,90)"
   ]
  },
  {
   "cell_type": "code",
   "execution_count": 6,
   "metadata": {},
   "outputs": [
    {
     "data": {
      "text/plain": [
       "19.944444444444443"
      ]
     },
     "execution_count": 6,
     "metadata": {},
     "output_type": "execute_result"
    }
   ],
   "source": [
    "#check length\n",
    "len(result_test['adj_close_price'])/252"
   ]
  },
  {
   "cell_type": "code",
   "execution_count": 7,
   "metadata": {},
   "outputs": [],
   "source": [
    "#save the result\n",
    "save_obj(result_test,\"pkl_data/result_test_20yr\")"
   ]
  },
  {
   "cell_type": "code",
   "execution_count": 8,
   "metadata": {},
   "outputs": [],
   "source": [
    "result_test = load_obj(\"pkl_data/result_test_20yr\")"
   ]
  },
  {
   "cell_type": "code",
   "execution_count": 9,
   "metadata": {},
   "outputs": [
    {
     "data": {
      "text/plain": [
       "[{'date': datetime.date(2019, 6, 30), 'value': -1.1611},\n",
       " {'date': datetime.date(2019, 3, 31), 'value': -1.1485},\n",
       " {'date': datetime.date(2018, 12, 31), 'value': -1.1134},\n",
       " {'date': datetime.date(2018, 9, 30), 'value': -1.2509},\n",
       " {'date': datetime.date(2018, 6, 30), 'value': -1.2708},\n",
       " {'date': datetime.date(2018, 3, 31), 'value': -1.3214},\n",
       " {'date': datetime.date(2017, 12, 31), 'value': -1.3674},\n",
       " {'date': datetime.date(2017, 9, 30), 'value': -1.4398},\n",
       " {'date': datetime.date(2017, 6, 30), 'value': -1.3653},\n",
       " {'date': datetime.date(2017, 3, 31), 'value': -1.2497},\n",
       " {'date': datetime.date(2016, 12, 31), 'value': -1.2724},\n",
       " {'date': datetime.date(2016, 9, 30), 'value': -2.1435},\n",
       " {'date': datetime.date(2016, 6, 30), 'value': -2.1763},\n",
       " {'date': datetime.date(2016, 3, 31), 'value': -3.3795},\n",
       " {'date': datetime.date(2015, 12, 31), 'value': -3.149},\n",
       " {'date': datetime.date(2015, 9, 30), 'value': -2.9952},\n",
       " {'date': datetime.date(2015, 6, 30), 'value': -2.9957},\n",
       " {'date': datetime.date(2015, 3, 31), 'value': -2.2874},\n",
       " {'date': datetime.date(2014, 12, 31), 'value': -2.2454},\n",
       " {'date': datetime.date(2014, 9, 30), 'value': -2.407},\n",
       " {'date': datetime.date(2014, 6, 30), 'value': -2.3511},\n",
       " {'date': datetime.date(2014, 3, 31), 'value': -2.5294},\n",
       " {'date': datetime.date(2013, 12, 31), 'value': -2.3409},\n",
       " {'date': datetime.date(2013, 9, 30), 'value': -2.4036},\n",
       " {'date': datetime.date(2013, 6, 30), 'value': -2.3458},\n",
       " {'date': datetime.date(2013, 3, 31), 'value': -2.8782},\n",
       " {'date': datetime.date(2012, 12, 31), 'value': -2.7815},\n",
       " {'date': datetime.date(2012, 9, 30), 'value': -2.7609},\n",
       " {'date': datetime.date(2012, 6, 30), 'value': -2.4123},\n",
       " {'date': datetime.date(2012, 3, 31), 'value': -1.8227},\n",
       " {'date': datetime.date(2011, 12, 31), 'value': -1.5424},\n",
       " {'date': datetime.date(2011, 9, 30), 'value': -1.7467},\n",
       " {'date': datetime.date(2011, 6, 30), 'value': -1.6771},\n",
       " {'date': datetime.date(2011, 3, 31), 'value': -1.6023},\n",
       " {'date': datetime.date(2010, 12, 31), 'value': -1.3932},\n",
       " {'date': datetime.date(2010, 9, 30), 'value': -1.3845},\n",
       " {'date': datetime.date(2010, 6, 30), 'value': -1.3943},\n",
       " {'date': datetime.date(2010, 3, 31), 'value': -1.5009},\n",
       " {'date': datetime.date(2009, 12, 31), 'value': -1.3977},\n",
       " {'date': datetime.date(2009, 9, 30), 'value': -1.5649},\n",
       " {'date': datetime.date(2009, 6, 30), 'value': -1.2934},\n",
       " {'date': datetime.date(2008, 6, 30), 'value': None}]"
      ]
     },
     "execution_count": 9,
     "metadata": {},
     "output_type": "execute_result"
    }
   ],
   "source": [
    "result_test['netdebttoebitda']"
   ]
  },
  {
   "cell_type": "code",
   "execution_count": 10,
   "metadata": {},
   "outputs": [],
   "source": [
    "#turn into dataframe\n",
    "\n",
    "#first merge price and volume\n",
    "result_1 = {}\n",
    "\n",
    "result_1['date'] = [x['date']for x in result_test['adj_close_price']]\n",
    "result_1['adj_close_price'] = [x['value'] for x in result_test['adj_close_price']]\n",
    "\n",
    "result_2 = {}\n",
    "result_2['date'] = [x['date'] for x in result_test['adj_volume']]\n",
    "result_2['adj_volume'] = [x['value'] for x in result_test['adj_volume']]\n",
    "\n",
    "\n",
    "result_test_df_1 = pd.DataFrame(result_1)\n",
    "result_test_df_2 = pd.DataFrame(result_2)\n",
    "\n",
    "result_test_df = pd.merge(result_test_df_1, result_test_df_2 , left_on='date', right_on='date')"
   ]
  },
  {
   "cell_type": "code",
   "execution_count": 11,
   "metadata": {},
   "outputs": [],
   "source": [
    "#add price to book\n",
    "result_3 = {}\n",
    "result_3['date'] = [x['date'] for x in result_test['pricetobook']]\n",
    "result_3['pricetobook'] = [x['value'] for x in result_test['pricetobook']]\n",
    "\n",
    "result_test_df_3 = pd.DataFrame(result_3)\n",
    "\n",
    "result_test_df = pd.merge(result_test_df, result_test_df_3 , left_on='date', right_on='date')\n"
   ]
  },
  {
   "cell_type": "code",
   "execution_count": 12,
   "metadata": {},
   "outputs": [
    {
     "data": {
      "text/plain": [
       "16"
      ]
     },
     "execution_count": 12,
     "metadata": {},
     "output_type": "execute_result"
    }
   ],
   "source": [
    "[x['date'] for x in result_test['netdebttoebitda']][::-1].index(dt.date(2013, 3, 31))"
   ]
  },
  {
   "cell_type": "code",
   "execution_count": 13,
   "metadata": {},
   "outputs": [
    {
     "data": {
      "text/html": [
       "<div>\n",
       "<style scoped>\n",
       "    .dataframe tbody tr th:only-of-type {\n",
       "        vertical-align: middle;\n",
       "    }\n",
       "\n",
       "    .dataframe tbody tr th {\n",
       "        vertical-align: top;\n",
       "    }\n",
       "\n",
       "    .dataframe thead th {\n",
       "        text-align: right;\n",
       "    }\n",
       "</style>\n",
       "<table border=\"1\" class=\"dataframe\">\n",
       "  <thead>\n",
       "    <tr style=\"text-align: right;\">\n",
       "      <th></th>\n",
       "      <th>index</th>\n",
       "      <th>date</th>\n",
       "      <th>adj_close_price</th>\n",
       "      <th>adj_volume</th>\n",
       "      <th>pricetobook</th>\n",
       "    </tr>\n",
       "  </thead>\n",
       "  <tbody>\n",
       "    <tr>\n",
       "      <th>0</th>\n",
       "      <td>2890</td>\n",
       "      <td>2008-06-30</td>\n",
       "      <td>20.931707</td>\n",
       "      <td>57836460.0</td>\n",
       "      <td>NaN</td>\n",
       "    </tr>\n",
       "    <tr>\n",
       "      <th>1</th>\n",
       "      <td>2889</td>\n",
       "      <td>2008-07-01</td>\n",
       "      <td>20.444746</td>\n",
       "      <td>100327707.0</td>\n",
       "      <td>NaN</td>\n",
       "    </tr>\n",
       "    <tr>\n",
       "      <th>2</th>\n",
       "      <td>2888</td>\n",
       "      <td>2008-07-02</td>\n",
       "      <td>19.691479</td>\n",
       "      <td>84702804.0</td>\n",
       "      <td>NaN</td>\n",
       "    </tr>\n",
       "    <tr>\n",
       "      <th>3</th>\n",
       "      <td>2887</td>\n",
       "      <td>2008-07-03</td>\n",
       "      <td>19.767566</td>\n",
       "      <td>37076426.0</td>\n",
       "      <td>NaN</td>\n",
       "    </tr>\n",
       "    <tr>\n",
       "      <th>4</th>\n",
       "      <td>2886</td>\n",
       "      <td>2008-07-07</td>\n",
       "      <td>19.805610</td>\n",
       "      <td>71527599.0</td>\n",
       "      <td>NaN</td>\n",
       "    </tr>\n",
       "    <tr>\n",
       "      <th>...</th>\n",
       "      <td>...</td>\n",
       "      <td>...</td>\n",
       "      <td>...</td>\n",
       "      <td>...</td>\n",
       "      <td>...</td>\n",
       "    </tr>\n",
       "    <tr>\n",
       "      <th>2886</th>\n",
       "      <td>4</td>\n",
       "      <td>2019-12-02</td>\n",
       "      <td>149.550000</td>\n",
       "      <td>27473616.0</td>\n",
       "      <td>10.8714</td>\n",
       "    </tr>\n",
       "    <tr>\n",
       "      <th>2887</th>\n",
       "      <td>3</td>\n",
       "      <td>2019-12-03</td>\n",
       "      <td>149.310000</td>\n",
       "      <td>25192145.0</td>\n",
       "      <td>10.8539</td>\n",
       "    </tr>\n",
       "    <tr>\n",
       "      <th>2888</th>\n",
       "      <td>2</td>\n",
       "      <td>2019-12-04</td>\n",
       "      <td>149.850000</td>\n",
       "      <td>17580617.0</td>\n",
       "      <td>10.8932</td>\n",
       "    </tr>\n",
       "    <tr>\n",
       "      <th>2889</th>\n",
       "      <td>1</td>\n",
       "      <td>2019-12-05</td>\n",
       "      <td>149.930000</td>\n",
       "      <td>17880601.0</td>\n",
       "      <td>10.8990</td>\n",
       "    </tr>\n",
       "    <tr>\n",
       "      <th>2890</th>\n",
       "      <td>0</td>\n",
       "      <td>2019-12-06</td>\n",
       "      <td>151.750000</td>\n",
       "      <td>16410400.0</td>\n",
       "      <td>11.0313</td>\n",
       "    </tr>\n",
       "  </tbody>\n",
       "</table>\n",
       "<p>2891 rows × 5 columns</p>\n",
       "</div>"
      ],
      "text/plain": [
       "      index        date  adj_close_price   adj_volume  pricetobook\n",
       "0      2890  2008-06-30        20.931707   57836460.0          NaN\n",
       "1      2889  2008-07-01        20.444746  100327707.0          NaN\n",
       "2      2888  2008-07-02        19.691479   84702804.0          NaN\n",
       "3      2887  2008-07-03        19.767566   37076426.0          NaN\n",
       "4      2886  2008-07-07        19.805610   71527599.0          NaN\n",
       "...     ...         ...              ...          ...          ...\n",
       "2886      4  2019-12-02       149.550000   27473616.0      10.8714\n",
       "2887      3  2019-12-03       149.310000   25192145.0      10.8539\n",
       "2888      2  2019-12-04       149.850000   17580617.0      10.8932\n",
       "2889      1  2019-12-05       149.930000   17880601.0      10.8990\n",
       "2890      0  2019-12-06       151.750000   16410400.0      11.0313\n",
       "\n",
       "[2891 rows x 5 columns]"
      ]
     },
     "execution_count": 13,
     "metadata": {},
     "output_type": "execute_result"
    }
   ],
   "source": [
    "#sort it ascendingly\n",
    "result_test_df = result_test_df.sort_values(by = ['date'])\n",
    "result_test_df.reset_index(inplace = True)\n",
    "result_test_df"
   ]
  },
  {
   "cell_type": "code",
   "execution_count": 14,
   "metadata": {},
   "outputs": [],
   "source": [
    "#save\n",
    "save_obj(result_test_df,\"pkl_data/result_test_20yr_df\")"
   ]
  },
  {
   "cell_type": "code",
   "execution_count": 15,
   "metadata": {},
   "outputs": [],
   "source": [
    "#load\n",
    "result_test_df = load_obj(\"pkl_data/result_test_20yr_df\")"
   ]
  },
  {
   "cell_type": "code",
   "execution_count": 16,
   "metadata": {},
   "outputs": [],
   "source": [
    "#now add the other columns for quarterly data:'netdebttoebitda','ltdebttoebitda','adjdilutedeps','dividend'\n",
    "tags_loop = ['netdebttoebitda','ltdebttoebitda','adjdilutedeps','dividend']\n",
    "\n",
    "for t in tags_loop:\n",
    "    #populate that column with nan\n",
    "    result_test_df[t] = np.nan\n",
    "    \n",
    "    result_tmp = {}\n",
    "    result_tmp['date'] = [x['date'] for x in result_test[t]][::-1]\n",
    "    result_tmp[t] = [x['value'] for x in result_test[t]][::-1]\n",
    "    \n",
    "    \n",
    "    #loop through the dataframe and set the value in between the quarterly announcement as the prev one\n",
    "    for index,row in result_test_df.iterrows():\n",
    "        #date_in_df = dt.datetime.strptime(row['date'],'%Y-%m-%d')\n",
    "        date_in_df = row['date']\n",
    "        #take the previous value for the quarterly data\n",
    "        #result_tmp['date'] should be sorted\n",
    "        for dd in result_tmp['date']:\n",
    "            if dd <= date_in_df:\n",
    "                #print(dd)\n",
    "                #print(date_in_df)\n",
    "                index_tmp = result_tmp['date'].index(dd)\n",
    "                value_tmp = result_tmp[t][index_tmp]\n",
    "                result_test_df.loc[index,t] = value_tmp\n",
    "                #print(row[t])\n",
    "                #print(index)\n",
    "                #early exit\n",
    "                continue"
   ]
  },
  {
   "cell_type": "code",
   "execution_count": 17,
   "metadata": {},
   "outputs": [
    {
     "data": {
      "text/plain": [
       "[{'date': datetime.date(2019, 6, 30), 'value': -1.1611},\n",
       " {'date': datetime.date(2019, 3, 31), 'value': -1.1485},\n",
       " {'date': datetime.date(2018, 12, 31), 'value': -1.1134},\n",
       " {'date': datetime.date(2018, 9, 30), 'value': -1.2509},\n",
       " {'date': datetime.date(2018, 6, 30), 'value': -1.2708},\n",
       " {'date': datetime.date(2018, 3, 31), 'value': -1.3214},\n",
       " {'date': datetime.date(2017, 12, 31), 'value': -1.3674},\n",
       " {'date': datetime.date(2017, 9, 30), 'value': -1.4398},\n",
       " {'date': datetime.date(2017, 6, 30), 'value': -1.3653},\n",
       " {'date': datetime.date(2017, 3, 31), 'value': -1.2497},\n",
       " {'date': datetime.date(2016, 12, 31), 'value': -1.2724},\n",
       " {'date': datetime.date(2016, 9, 30), 'value': -2.1435},\n",
       " {'date': datetime.date(2016, 6, 30), 'value': -2.1763},\n",
       " {'date': datetime.date(2016, 3, 31), 'value': -3.3795},\n",
       " {'date': datetime.date(2015, 12, 31), 'value': -3.149},\n",
       " {'date': datetime.date(2015, 9, 30), 'value': -2.9952},\n",
       " {'date': datetime.date(2015, 6, 30), 'value': -2.9957},\n",
       " {'date': datetime.date(2015, 3, 31), 'value': -2.2874},\n",
       " {'date': datetime.date(2014, 12, 31), 'value': -2.2454},\n",
       " {'date': datetime.date(2014, 9, 30), 'value': -2.407},\n",
       " {'date': datetime.date(2014, 6, 30), 'value': -2.3511},\n",
       " {'date': datetime.date(2014, 3, 31), 'value': -2.5294},\n",
       " {'date': datetime.date(2013, 12, 31), 'value': -2.3409},\n",
       " {'date': datetime.date(2013, 9, 30), 'value': -2.4036},\n",
       " {'date': datetime.date(2013, 6, 30), 'value': -2.3458},\n",
       " {'date': datetime.date(2013, 3, 31), 'value': -2.8782},\n",
       " {'date': datetime.date(2012, 12, 31), 'value': -2.7815},\n",
       " {'date': datetime.date(2012, 9, 30), 'value': -2.7609},\n",
       " {'date': datetime.date(2012, 6, 30), 'value': -2.4123},\n",
       " {'date': datetime.date(2012, 3, 31), 'value': -1.8227},\n",
       " {'date': datetime.date(2011, 12, 31), 'value': -1.5424},\n",
       " {'date': datetime.date(2011, 9, 30), 'value': -1.7467},\n",
       " {'date': datetime.date(2011, 6, 30), 'value': -1.6771},\n",
       " {'date': datetime.date(2011, 3, 31), 'value': -1.6023},\n",
       " {'date': datetime.date(2010, 12, 31), 'value': -1.3932},\n",
       " {'date': datetime.date(2010, 9, 30), 'value': -1.3845},\n",
       " {'date': datetime.date(2010, 6, 30), 'value': -1.3943},\n",
       " {'date': datetime.date(2010, 3, 31), 'value': -1.5009},\n",
       " {'date': datetime.date(2009, 12, 31), 'value': -1.3977},\n",
       " {'date': datetime.date(2009, 9, 30), 'value': -1.5649},\n",
       " {'date': datetime.date(2009, 6, 30), 'value': -1.2934},\n",
       " {'date': datetime.date(2008, 6, 30), 'value': None}]"
      ]
     },
     "execution_count": 17,
     "metadata": {},
     "output_type": "execute_result"
    }
   ],
   "source": [
    "result_test['netdebttoebitda']"
   ]
  },
  {
   "cell_type": "code",
   "execution_count": 99,
   "metadata": {},
   "outputs": [],
   "source": [
    "#dropna\n",
    "result_test_df = result_test_df.dropna()"
   ]
  },
  {
   "cell_type": "code",
   "execution_count": 18,
   "metadata": {},
   "outputs": [],
   "source": [
    "save_obj(result_test_df,\"pkl_data/result_test_20yr_df_final\")"
   ]
  },
  {
   "cell_type": "code",
   "execution_count": null,
   "metadata": {},
   "outputs": [],
   "source": []
  }
 ],
 "metadata": {
  "kernelspec": {
   "display_name": "venv",
   "language": "python",
   "name": "venv"
  },
  "language_info": {
   "codemirror_mode": {
    "name": "ipython",
    "version": 3
   },
   "file_extension": ".py",
   "mimetype": "text/x-python",
   "name": "python",
   "nbconvert_exporter": "python",
   "pygments_lexer": "ipython3",
   "version": "3.7.3"
  }
 },
 "nbformat": 4,
 "nbformat_minor": 2
}
